{
 "cells": [
  {
   "cell_type": "markdown",
   "metadata": {},
   "source": [
    "# 1.2 Что такое Hadoop"
   ]
  },
  {
   "cell_type": "markdown",
   "metadata": {},
   "source": [
    "## Экосистема Hadoop\n",
    "\n",
    "Главные компоненты Hadoop:\n",
    "- **HDFS**: Hadoop Distributed FileSystem\n",
    "- **MapReduce**: Фреймворк распределенной обработки данных\n",
    "\n",
    "Другие компоненты:\n",
    "- **Hbase**: NoSQL Column-oriented DB, поддержка последовательного и произвольного чтения, поддержка простых запросов\n",
    "- **Zookeeper**: Highly-Available Coordination Service\n",
    "- **Oozie**: Диспетчер задач для Hadoop\n",
    "- **Pig**: язык обработки данных и среда выполнения\n",
    "- **Hive**: Data warehouse с SQL интерфейсом"
   ]
  },
  {
   "cell_type": "markdown",
   "metadata": {},
   "source": [
    "<img src=\"schemas/hadoop_ecosystem.svg\" title=\"Демоны HDFS\" width=\"400\" height=\"400\"/>"
   ]
  },
  {
   "cell_type": "markdown",
   "metadata": {},
   "source": [
    "- В Linux используется файловая система ext3 и ext4, а в Hadoop - HDFS.  \n",
    "- Над обычных файловых системах строится обычная реляционная база данных, а для правильной работы с HDFS используется HBase.  \n",
    "- Фреймворк MapReduce позволяет обрабатывать данные в парадигме map/reduce, причем данные могут находиться (чтение/запись) в HDFS или в HBase.  \n",
    "- Oozie уже используется для управления MapReduce задачами (как и когда).  \n",
    "- Pig с помощью высокоуровневых команд может описывать какие операции нужно производить. Потом Pig преобразует команды в MapReduce задачи.  \n",
    "- Похожий на Pig инструмент Hive описывает, что нужно делать с данными, но в Hive используется SQL-подобный язык обращения к данным.\n"
   ]
  },
  {
   "cell_type": "markdown",
   "metadata": {},
   "source": [
    "### Вендоры дистрибутивов\n",
    "\n",
    "- http://www.cloudera.com/hadoop (CDH)\n",
    "- MapR distribution\n",
    "- Hartonworks data platform (HDP)\n",
    "- Apache BigTop Distribution"
   ]
  },
  {
   "cell_type": "markdown",
   "metadata": {},
   "source": [
    "### Документация\n",
    "\n",
    "- Hadoop и HDFS:  http://hadoop.apache.org/\n",
    "- HBase: https://hbase.apache.org/\n",
    "- Cassandra: http://cassandra.apache.org/\n",
    "- Pig: https://pig.apache.org/\n",
    "- Hive: https://hive.apache.org/\n",
    "- Spark: http://spark.apache.org/"
   ]
  }
 ],
 "metadata": {
  "hide_input": false,
  "kernelspec": {
   "display_name": "Python 3",
   "language": "python",
   "name": "python3"
  },
  "language_info": {
   "codemirror_mode": {
    "name": "ipython",
    "version": 3
   },
   "file_extension": ".py",
   "mimetype": "text/x-python",
   "name": "python",
   "nbconvert_exporter": "python",
   "pygments_lexer": "ipython3",
   "version": "3.8.5"
  },
  "toc": {
   "base_numbering": 1,
   "nav_menu": {},
   "number_sections": false,
   "sideBar": true,
   "skip_h1_title": false,
   "title_cell": "Table of Contents",
   "title_sidebar": "Contents",
   "toc_cell": false,
   "toc_position": {},
   "toc_section_display": true,
   "toc_window_display": false
  },
  "varInspector": {
   "cols": {
    "lenName": 16,
    "lenType": 16,
    "lenVar": 40
   },
   "kernels_config": {
    "python": {
     "delete_cmd_postfix": "",
     "delete_cmd_prefix": "del ",
     "library": "var_list.py",
     "varRefreshCmd": "print(var_dic_list())"
    },
    "r": {
     "delete_cmd_postfix": ") ",
     "delete_cmd_prefix": "rm(",
     "library": "var_list.r",
     "varRefreshCmd": "cat(var_dic_list()) "
    }
   },
   "types_to_exclude": [
    "module",
    "function",
    "builtin_function_or_method",
    "instance",
    "_Feature"
   ],
   "window_display": false
  }
 },
 "nbformat": 4,
 "nbformat_minor": 4
}
