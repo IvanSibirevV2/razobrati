{
 "cells": [
  {
   "cell_type": "markdown",
   "id": "f110fce0",
   "metadata": {},
   "source": [
    "# 9.1 Что такое YARN?"
   ]
  },
  {
   "cell_type": "markdown",
   "id": "e311dc3e",
   "metadata": {},
   "source": [
    "Фреймворк **YARN**: Yet Another Resource Negotiator (еще один распределитель ресурсов). Иногда называют MapReduce 2.0.\n",
    "\n",
    "<img src=\"slides/le09/YARN/YARN-02.png\" title=\"YARN\" width=\"600\" height=\"600\"/>\n",
    "\n",
    "В Framework-е YARN можно запускать как MapReduce задачи, так и не MapReduce задачи.\n",
    "\n",
    "<img src=\"slides/le09/YARN/YARN-03.png\" title=\"YARN\" width=\"600\" height=\"600\"/>\n",
    "\n",
    "<img src=\"slides/le09/YARN/YARN-04.png\" title=\"YARN\" width=\"600\" height=\"600\"/>"
   ]
  },
  {
   "cell_type": "markdown",
   "id": "492af1bf",
   "metadata": {},
   "source": []
  }
 ],
 "metadata": {
  "hide_input": false,
  "kernelspec": {
   "display_name": "Python 3",
   "language": "python",
   "name": "python3"
  },
  "language_info": {
   "codemirror_mode": {
    "name": "ipython",
    "version": 3
   },
   "file_extension": ".py",
   "mimetype": "text/x-python",
   "name": "python",
   "nbconvert_exporter": "python",
   "pygments_lexer": "ipython3",
   "version": "3.8.5"
  },
  "toc": {
   "base_numbering": 1,
   "nav_menu": {},
   "number_sections": false,
   "sideBar": true,
   "skip_h1_title": false,
   "title_cell": "Table of Contents",
   "title_sidebar": "Contents",
   "toc_cell": false,
   "toc_position": {},
   "toc_section_display": true,
   "toc_window_display": false
  },
  "varInspector": {
   "cols": {
    "lenName": 16,
    "lenType": 16,
    "lenVar": 40
   },
   "kernels_config": {
    "python": {
     "delete_cmd_postfix": "",
     "delete_cmd_prefix": "del ",
     "library": "var_list.py",
     "varRefreshCmd": "print(var_dic_list())"
    },
    "r": {
     "delete_cmd_postfix": ") ",
     "delete_cmd_prefix": "rm(",
     "library": "var_list.r",
     "varRefreshCmd": "cat(var_dic_list()) "
    }
   },
   "types_to_exclude": [
    "module",
    "function",
    "builtin_function_or_method",
    "instance",
    "_Feature"
   ],
   "window_display": false
  }
 },
 "nbformat": 4,
 "nbformat_minor": 5
}
