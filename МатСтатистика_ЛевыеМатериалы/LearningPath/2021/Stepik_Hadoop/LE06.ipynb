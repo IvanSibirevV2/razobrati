{
 "cells": [
  {
   "cell_type": "markdown",
   "metadata": {},
   "source": [
    "# 6.1 Pig"
   ]
  },
  {
   "cell_type": "markdown",
   "metadata": {},
   "source": [
    "## Что такое Pig\n",
    "\n",
    "<img src=\"slides/le06/pig/pig-03.png\" title=\"Что такое Pig\" width=\"400\" height=\"400\"/>"
   ]
  },
  {
   "cell_type": "markdown",
   "metadata": {},
   "source": [
    "## Для чего нужен Pig\n",
    "\n",
    "<img src=\"slides/le06/pig/pig-04.png\" title=\"Для чего нужен Pig\" width=\"400\" height=\"400\"/>"
   ]
  },
  {
   "cell_type": "markdown",
   "metadata": {},
   "source": [
    "## Основные возможности Pig\n",
    "\n",
    "<img src=\"slides/le06/pig/pig-06.png\" title=\"Основные возможности Pig\" width=\"400\" height=\"400\"/>"
   ]
  },
  {
   "cell_type": "markdown",
   "metadata": {},
   "source": [
    "## Основные возможности Pig\n",
    "\n",
    "<img src=\"slides/le06/pig/pig-07.png\" title=\"КОмпоненты Pig\" width=\"400\" height=\"400\"/>"
   ]
  },
  {
   "cell_type": "markdown",
   "metadata": {},
   "source": [
    "## Режим выполнения\n",
    "\n",
    "<img src=\"slides/le06/pig/pig-08.png\" title=\"Режим выполнения\" width=\"400\" height=\"400\"/>"
   ]
  },
  {
   "cell_type": "markdown",
   "metadata": {},
   "source": [
    "## Запуск Pig\n",
    "\n",
    "<img src=\"slides/le06/pig/pig-09.png\" title=\"Запуск Pig\" width=\"400\" height=\"400\"/>"
   ]
  },
  {
   "cell_type": "markdown",
   "metadata": {},
   "source": [
    "## Pig Latin\n",
    "\n",
    "<img src=\"slides/le06/pig/pig-10.png\" title=\"Pig Latin\" width=\"400\" height=\"400\"/>\n",
    "\n",
    "Pig - типизированный язык. \n",
    "- **field** - минимальный блок (число, строка и тд). \n",
    "- Объединение field - **tuple** (кортеж), заключенный в `(` и `)`. \n",
    "- **Bag** (мешок) - набор кортежей, заключенных в `{` и `}`. Кортежи могут отличаться по своему наполнению.\n",
    "\n",
    "<img src=\"slides/le06/pig/pig-11.png\" title=\"Pig Latin\" width=\"400\" height=\"400\"/>\n",
    "\n",
    "Схожесть с реляционной моделью:\n",
    "- Bag vs Таблица БД\n",
    "- Tuple vs Строка таблицы БД\n",
    "    - каждый tuple Bag **может имеет различную** структуру\n",
    "    - каждая строка БД **имеет одинаковую** структуру\n",
    "- Field vs Поля строки"
   ]
  },
  {
   "cell_type": "markdown",
   "metadata": {},
   "source": [
    "## Операции Dump и Store\n",
    "\n",
    "<img src=\"slides/le06/pig/pig-13.png\" title=\"Операции Dump и Store\" width=\"400\" height=\"400\"/>\n",
    "\n",
    "Работает режим отложенного запуска. Данные обрабатываются не в момент написания команд, а в момент необходимости вывода. Компилятор следит за синтаксисом."
   ]
  },
  {
   "cell_type": "markdown",
   "metadata": {},
   "source": [
    "## Большой объем данных\n",
    "\n",
    "<img src=\"slides/le06/pig/pig-14.png\" title=\"Большой объем данных\" width=\"400\" height=\"400\"/>"
   ]
  },
  {
   "cell_type": "markdown",
   "metadata": {},
   "source": [
    "## Операция Load\n",
    "\n",
    "<img src=\"slides/le06/pig/pig-15.png\" title=\"Операция Load\" width=\"400\" height=\"400\"/>\n",
    "\n",
    "По-умолчанию в using используется функция `PigStorage`, которая разделяет строки по табуляции. Можно изменить разделитель указав `PigStorage(';')`."
   ]
  },
  {
   "cell_type": "markdown",
   "metadata": {},
   "source": [
    "# 6.2 Основные операторы PigLatin"
   ]
  },
  {
   "cell_type": "markdown",
   "metadata": {},
   "source": [
    "<img src=\"slides/le06/pig/pig-18.png\" title=\"Пример\" width=\"400\" height=\"400\"/>\n",
    "\n",
    "- Сначала загружаем данные из `b.txt` файла в переменную `chars`. Файл предположительно состоит из одного поля `c`. \n",
    "- Вызываем `DESCRIBE` чтобы посмотреть описание переменной.\n",
    "- Вызываем `DUMP`, чтобы посмотреть, что содержит переменная.\n",
    "- Делаем группировку `GROUP`, указав данные какой переменной мы хотим сгруппировать и по какому полю.\n",
    "- Вызываем `DESCRIBE` чтобы посмотреть описание переменной после группировки. Получаем некий bag, который содержит первым полем строку (значение ключа), второе поле тоже bag, который содержит все tuples из bag `chars`."
   ]
  },
  {
   "cell_type": "markdown",
   "metadata": {},
   "source": [
    "<img src=\"slides/le06/pig/pig-19.png\" title=\"Пример\" width=\"400\" height=\"400\"/>\n",
    "\n",
    "`ILLUSTRATE`"
   ]
  },
  {
   "cell_type": "markdown",
   "metadata": {},
   "source": [
    "## FOREACH\n",
    "\n",
    "<img src=\"slides/le06/pig/pig-21.png\" title=\"FOREACH\" width=\"400\" height=\"400\"/>\n",
    "\n",
    "`FOREACH <bag> GENERATE <data>` - перебирает все кортежи из некоторого bag и определяем, что делать с данными через `GENERATE`.\n",
    "\n",
    "```\n",
    "# Получаем все поля i из кортежа\n",
    "counts = FOREACH records GENERATE i;\n",
    "```"
   ]
  },
  {
   "cell_type": "markdown",
   "metadata": {},
   "source": [
    "<img src=\"slides/le06/pig/pig-22.png\" title=\"FOREACH с функцией\" width=\"400\" height=\"400\"/>\n",
    "\n",
    "Обычно `FOREACH` используют с функцией. В Pig стандартные функции:\n",
    "- `COUNT` количество объектов\n",
    "- `FLATTEN` \n",
    "- `CONCAT`.\n",
    "\n",
    "Можно и пользовательские функции реализовывать."
   ]
  },
  {
   "cell_type": "markdown",
   "metadata": {},
   "source": [
    "<img src=\"slides/le06/pig/pig-23.png\" title=\"Пример FOREACH с функцией\" width=\"400\" height=\"400\"/>\n",
    "\n",
    "Считаем количество объектов."
   ]
  },
  {
   "cell_type": "markdown",
   "metadata": {},
   "source": [
    "## TOKENIZE\n",
    "\n",
    "<img src=\"slides/le06/pig/pig-24.png\" title=\"TOKENIZE\" width=\"400\" height=\"400\"/>\n",
    "\n",
    "Функция разбивает строку на токены."
   ]
  },
  {
   "cell_type": "markdown",
   "metadata": {},
   "source": [
    "<img src=\"slides/le06/pig/pig-25.png\" title=\"Пример TOKENIZE\" width=\"400\" height=\"400\"/>\n",
    "\n",
    "Зачитываем файл `c.txt` как одно большое поле `c`. Далее перебираем эти данные и применяем к каждой строке функцию `TOKENIZE` (аналогия со `split` строки). Было поле `(line)`, а мы его разбили на bag `{(token), (token), (token)}`.\n",
    "\n",
    "**Дополнение**: запятые `TOKENIZE` отбрасывает. Он делит по пробелам, кавычкам, скобкам и запятым и звездочкам.\n",
    "\n",
    "```\n",
    "# Veni, vidi, vici\n",
    "grunt> text =  LOAD 'latin.txt' AS (line:chararray);\n",
    "grunt> tokens = FOREACH text GENERATE TOKENIZE(line);\n",
    "grunt> DUMP tokens;\n",
    "\n",
    "({(veni), (vidi), (vici)})\n",
    "```"
   ]
  },
  {
   "cell_type": "markdown",
   "metadata": {},
   "source": [
    "<img src=\"slides/le06/pig/pig-26.png\" title=\"Пример TOKENIZE\" width=\"400\" height=\"400\"/>\n",
    "\n",
    "Чтобы обратно собрать все токены используют функцию `flatten`. Из `{(t), (t), (t)}` -> `(f) (f) (f)`. `flatten` принимает индекс строки. `$0` это индекс поля в кортеже."
   ]
  },
  {
   "cell_type": "markdown",
   "metadata": {},
   "source": [
    "## Пример решения WordCount на Pig\n",
    "\n",
    "<img src=\"slides/le06/pig/pig-27.png\" title=\"Пример WordCount\" width=\"400\" height=\"400\"/>"
   ]
  },
  {
   "cell_type": "markdown",
   "metadata": {},
   "source": [
    "## JOINS\n",
    "\n",
    "<img src=\"slides/le06/pig/pig-28.png\" title=\"JOINS\" width=\"400\" height=\"400\"/>\n",
    "\n",
    "<img src=\"slides/le06/pig/pig-29.png\" title=\"INNER JOINS\" width=\"400\" height=\"400\"/>\n",
    "\n",
    "`JOIN posts BY user, likes BY user` мы смотрим пересечение таблицы `posts` по полю `user` с таблицей `likes` то же по полю `user`.\n",
    "\n",
    "<img src=\"slides/le06/pig/pig-30.png\" title=\"INNER JOINS\" width=\"400\" height=\"400\"/>\n",
    "\n",
    "Результат объединения таков, что сначала будут идти данные из 1 файла для **user1**, а потом из второго. **User5** есть только во 2 файле, поэтому информацию по нему в итоговое пересечение не попадет. **User3** есть только в 1 файле, поэтому данные тоже не попадут."
   ]
  },
  {
   "cell_type": "markdown",
   "metadata": {},
   "source": [
    "<img src=\"slides/le06/pig/pig-31.png\" title=\"Структура данных INNER JOINS\" width=\"400\" height=\"400\"/>\n",
    "\n",
    "Так как мы имеем 2 поля **user**, то необходимо указывать префикс, чтобы обозначить к какому полю мы обращаемся."
   ]
  },
  {
   "cell_type": "markdown",
   "metadata": {},
   "source": [
    "<img src=\"slides/le06/pig/pig-32.png\" title=\"OUTER JOINS\" width=\"400\" height=\"400\"/>\n",
    "\n",
    "- Поле из 1 источника остается в любом случае\n",
    "- Поле из 2 источника остается в любом случае\n",
    "- Поля из обеих полей остаются в любом случае"
   ]
  },
  {
   "cell_type": "markdown",
   "metadata": {},
   "source": [
    "<img src=\"slides/le06/pig/pig-33.png\" title=\"LEFT JOINS\" width=\"400\" height=\"400\"/>\n",
    "\n",
    "<img src=\"slides/le06/pig/pig-34.png\" title=\"LEFT JOINS\" width=\"400\" height=\"400\"/>"
   ]
  },
  {
   "cell_type": "markdown",
   "metadata": {},
   "source": [
    "# 6.3 Hive"
   ]
  },
  {
   "cell_type": "markdown",
   "metadata": {},
   "source": [
    "<img src=\"slides/le06/hive/hive-02.png\" title=\"Hive\" width=\"400\" height=\"400\"/>\n",
    "\n",
    "Hive похож на Pig. Они используются для одних и тех же целей. Hive работает поверх Hadoop. Hive не БД.\n",
    "\n",
    "Hive online:  \n",
    "https://demo.gethue.com/hue/editor/?type=hive"
   ]
  },
  {
   "cell_type": "markdown",
   "metadata": {},
   "source": [
    "<img src=\"slides/le06/hive/hive-03.png\" title=\"Hive\" width=\"400\" height=\"400\"/>\n",
    "\n",
    "SQL-подобный язык HiveQL."
   ]
  },
  {
   "cell_type": "markdown",
   "metadata": {},
   "source": [
    "<img src=\"slides/le06/hive/hive-04.png\" title=\"Hive\" width=\"400\" height=\"400\"/>\n",
    "\n",
    "Low latency запросы, которые предоставляются достаточно быстро. Хорошо масштабируемая система: хорошо работает как на малых объемах, так и на больших."
   ]
  },
  {
   "cell_type": "markdown",
   "metadata": {},
   "source": [
    "## Общая схема работы Hive\n",
    "\n",
    "<img src=\"slides/le06/hive/hive-05.png\" title=\"Общая схема работы Hive\" width=\"400\" height=\"400\"/>\n",
    "\n",
    "Пользователь пишет некоторый скрипт на HiveQL. Client Hive транслирует задачу в MapReduce задачи и выполняет на кластере Hadoop. По выполнению задачи результ отправляется обратно клиенту."
   ]
  },
  {
   "cell_type": "markdown",
   "metadata": {},
   "source": [
    "## Общая архитектура Hive\n",
    "\n",
    "<img src=\"slides/le06/hive/hive-07.png\" title=\"Общая архитектура Hive\" width=\"400\" height=\"400\"/>\n",
    "\n",
    "Центральное место занимает ядро **Hive**, которое состоит из **Query Parser** (раскладывает команды, которые клиент отрпавил для запуска). **Executor** запускает MapReduce задачи на кластере Hadoop.\n",
    "\n",
    "В отличии от Pig, Hive использует фиксированную структуру данных и meta информацию он хранит в некотором хранилище **Metastore** (реляционная БД). \n",
    "\n",
    "Клиент может взаимодействовать через CLI, через Java API, web интерфейс. Обычно клиенты выполняют 2 типа действий:\n",
    "- Определяют структуру и взаимодействуют с Metastore.\n",
    "- Запуск происходит с помощью обращения к ядру, которое распарсит запрос и транслирует в MapReduce задачи.  "
   ]
  },
  {
   "cell_type": "markdown",
   "metadata": {},
   "source": [
    "## Модель данных Hive\n",
    "\n",
    "<img src=\"slides/le06/hive/hive-09.png\" title=\"Модель данных Hive\" width=\"400\" height=\"400\"/>\n",
    "\n",
    "Модель данных очень похожа на обычную реляционную. В отличии от Pig строка имеет определенный набор полей. В начале пользователь должен описать структуру таблицы."
   ]
  },
  {
   "cell_type": "markdown",
   "metadata": {},
   "source": [
    "## Пример\n",
    "\n",
    "<img src=\"slides/le06/hive/hive-10.png\" title=\"Пример задачи Hive\" width=\"400\" height=\"400\"/>\n",
    "\n",
    "<img src=\"slides/le06/hive/hive-11.png\" title=\"Пример задачи Hive\" width=\"400\" height=\"400\"/>\n",
    "\n",
    "Выполняем команду `hive`, чтобы войти в оболочку. В Hive мы можем выполнять стандартные Linux команды, только мы должны указать `!cat`."
   ]
  },
  {
   "cell_type": "markdown",
   "metadata": {},
   "source": [
    "<img src=\"slides/le06/hive/hive-12.png\" title=\"Пример задачи Hive\" width=\"400\" height=\"400\"/>\n",
    "\n",
    "Далее описываем структуру таблицы. \n",
    "- `CREATE TABLE post ...` - объявление таблицы\n",
    "- `ROW FORMAT DELIMITED`\n",
    "    - `FIELDS TERMINATED BY ','` разделитель\n",
    "    - `STORED AS TEXTFILE` как сохранять данные\n",
    "\n",
    "```sql\n",
    "CREATE TABLE posts \n",
    "(\n",
    "    user STRING,\n",
    "    post STRING,\n",
    "    time BIGINT\n",
    ")\n",
    "ROW FORMAT DELIMITED\n",
    "FIELDS TERMITED BY ','\n",
    "STORED AS TEXTFILE;\n",
    "```\n",
    "\n",
    "```bash\n",
    "# Какие таблицы есть\n",
    "show tables\n",
    "\n",
    "# Описание таблицы\n",
    "describe posts\n",
    "```"
   ]
  },
  {
   "cell_type": "markdown",
   "metadata": {},
   "source": [
    "<img src=\"slides/le06/hive/hive-14.png\" title=\"Пример задачи Hive\" width=\"400\" height=\"400\"/>\n",
    "\n",
    "`select count(1) from posts` - считает количество записей в таблице posts. HiveQL преобразуется в 1 MapReduce задачу.\n"
   ]
  },
  {
   "cell_type": "markdown",
   "metadata": {},
   "source": [
    "<img src=\"slides/le06/hive/hive-15.png\" title=\"Пример задачи Hive\" width=\"400\" height=\"400\"/>\n",
    "\n",
    "Мы можем выбрать все записи пользователя:  \n",
    "`select * from posts where user=\"user2\"`"
   ]
  },
  {
   "cell_type": "markdown",
   "metadata": {},
   "source": [
    "## Hive: Joins\n",
    "\n",
    "<img src=\"slides/le06/hive/hive-19.png\" title=\"Hive Joins\" width=\"400\" height=\"400\"/>\n",
    "\n",
    "По-умолчанию Inner Join. В отличие от Pig Hive умеет объединять несколько таблиц."
   ]
  },
  {
   "cell_type": "markdown",
   "metadata": {},
   "source": [
    "<img src=\"slides/le06/hive/hive-20.png\" title=\"Пример Hive Join\" width=\"400\" height=\"400\"/>\n",
    "\n",
    "<img src=\"slides/le06/hive/hive-21.png\" title=\"Пример Hive Join\" width=\"400\" height=\"400\"/>\n",
    "\n",
    "Заполняем таблицу **posts_likes** пересечением двух таблиц:\n",
    "```SQL\n",
    "INSERT OVERWRITE TABLE posts_likes\n",
    "SELECT p.user, p.post, l.count\n",
    "FROM posts p \n",
    "JOIN likes l\n",
    "ON (p.user = l.user)\n",
    "```"
   ]
  },
  {
   "cell_type": "markdown",
   "metadata": {},
   "source": [
    "## Пример WordCounts\n",
    "\n",
    "<img src=\"slides/le06/hive/hive-23.png\" title=\"Пример Hive WordCounts\" width=\"400\" height=\"400\"/>\n",
    "\n",
    "   \n",
    "\n",
    "Для подсчета слов используем временную таблицу\n",
    "```sql\n",
    "/* Сначала объявляем таблицу, в которой будем хранить весь текст в одной колонке типа STRING. */\n",
    "CREATE TABLE docs (line STRING);\n",
    "\n",
    "/*Загружаем данные из файла docks в таблицу docks путем перезаписи.*/\n",
    "LOAD DATA INPATH 'docs' OVERWRITE INTO TABLE docs;\n",
    "\n",
    "/*\n",
    "Создаем временную таблицу word_counts (аналогия WITH).\n",
    "Выбираем из нее слово и считаем количество\n",
    "В подзапросе разбиваем строку на слова\n",
    "explode - каждое слово, как отдельная строка\n",
    "w - название подзапроса\n",
    "*/\n",
    "CREATE TABLE word_counts AS\n",
    "SELECT word, \n",
    "       count(1) AS count \n",
    "FROM\n",
    "    (SELECT explode(split(line, '\\s')) AS word \n",
    "       FROM docs) w)\n",
    "GROUP BY word\n",
    "ORDER BY word;\n",
    "```"
   ]
  },
  {
   "cell_type": "markdown",
   "metadata": {},
   "source": [
    "<img src=\"slides/le06/hive/hive-24.png\" title=\"Пример Hive WordCounts\" width=\"400\" height=\"400\"/>\n",
    "\n",
    "Hive для любителей SQL."
   ]
  }
 ],
 "metadata": {
  "hide_input": false,
  "kernelspec": {
   "display_name": "Python 3",
   "language": "python",
   "name": "python3"
  },
  "language_info": {
   "codemirror_mode": {
    "name": "ipython",
    "version": 3
   },
   "file_extension": ".py",
   "mimetype": "text/x-python",
   "name": "python",
   "nbconvert_exporter": "python",
   "pygments_lexer": "ipython3",
   "version": "3.8.5"
  },
  "toc": {
   "base_numbering": 1,
   "nav_menu": {},
   "number_sections": false,
   "sideBar": true,
   "skip_h1_title": false,
   "title_cell": "Table of Contents",
   "title_sidebar": "Contents",
   "toc_cell": false,
   "toc_position": {},
   "toc_section_display": true,
   "toc_window_display": false
  },
  "varInspector": {
   "cols": {
    "lenName": 16,
    "lenType": 16,
    "lenVar": 40
   },
   "kernels_config": {
    "python": {
     "delete_cmd_postfix": "",
     "delete_cmd_prefix": "del ",
     "library": "var_list.py",
     "varRefreshCmd": "print(var_dic_list())"
    },
    "r": {
     "delete_cmd_postfix": ") ",
     "delete_cmd_prefix": "rm(",
     "library": "var_list.r",
     "varRefreshCmd": "cat(var_dic_list()) "
    }
   },
   "types_to_exclude": [
    "module",
    "function",
    "builtin_function_or_method",
    "instance",
    "_Feature"
   ],
   "window_display": false
  }
 },
 "nbformat": 4,
 "nbformat_minor": 4
}
