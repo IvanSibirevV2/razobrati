{
 "cells": [
  {
   "cell_type": "markdown",
   "id": "81d81f16",
   "metadata": {},
   "source": [
    "# 7.1 Способы хранения данных"
   ]
  },
  {
   "cell_type": "markdown",
   "id": "226e262e",
   "metadata": {},
   "source": [
    "## Память\n",
    "\n",
    "<img src=\"slides/le07/NoSQL/NoSQL-04.png\" title=\"Память плюсы\" width=\"400\" height=\"400\"/>\n",
    "\n",
    "<img src=\"slides/le07/NoSQL/NoSQL-05.png\" title=\"Память минусы\" width=\"400\" height=\"400\"/>"
   ]
  },
  {
   "cell_type": "markdown",
   "id": "6b4b506c",
   "metadata": {},
   "source": [
    "## Файлы\n",
    "\n",
    "<img src=\"slides/le07/NoSQL/NoSQL-07.png\" title=\"Файлы плюсы\" width=\"400\" height=\"400\"/>\n",
    "\n",
    "<img src=\"slides/le07/NoSQL/NoSQL-08.png\" title=\"Файлы минусы\" width=\"400\" height=\"400\"/>"
   ]
  },
  {
   "cell_type": "markdown",
   "id": "1abebc33",
   "metadata": {},
   "source": [
    "- **A**tomicity (атомарность)\n",
    "- **C**onsistency (согласованность)\n",
    "- **I**solation (изолированность)\n",
    "- **D**urability (надежность)"
   ]
  },
  {
   "cell_type": "markdown",
   "id": "82e92eb8",
   "metadata": {},
   "source": [
    "## Реляционная БД\n",
    "\n",
    "<img src=\"slides/le07/NoSQL/NoSQL-13.png\" title=\"РБД плюсы\" width=\"400\" height=\"400\"/>\n",
    "\n",
    "<img src=\"slides/le07/NoSQL/NoSQL-14.png\" title=\"РБД минусы\" width=\"400\" height=\"400\"/>"
   ]
  },
  {
   "cell_type": "markdown",
   "id": "90893a86",
   "metadata": {},
   "source": [
    "Масштабируемость:\n",
    "- **Master/slave** (репликация одной БД по всем slave-ам)\n",
    "- **Sharding** (деление таблицы по шардам на части). К примеру, по годам. Хранение шардов на разных серверах. Join-ы разных шардов - дорогое удовольствие."
   ]
  },
  {
   "cell_type": "markdown",
   "id": "cf1b0eb0",
   "metadata": {},
   "source": [
    "# 7.2 NoSQL"
   ]
  },
  {
   "cell_type": "markdown",
   "id": "cef27f34",
   "metadata": {},
   "source": [
    "<img src=\"slides/le07/NoSQL/NoSQL-19.png\" title=\"Основные черты NoSQL\" width=\"400\" height=\"400\"/>\n",
    "\n",
    "<img src=\"slides/le07/NoSQL/NoSQL-21.png\" title=\"Основные свойства системы\" width=\"400\" height=\"400\"/>\n",
    "\n",
    "<img src=\"slides/le07/NoSQL/NoSQL-22.png\" title=\"CAP теорема\" width=\"400\" height=\"400\"/>"
   ]
  },
  {
   "cell_type": "markdown",
   "id": "61b4cf9d",
   "metadata": {},
   "source": [
    "BASE вместо ACID:\n",
    "- **B**asically **A**vailable (базовая доступность)\n",
    "- **S**oft state (гибкое состояние)\n",
    "- **E**ventually consistent (согласованность в конечном счете)"
   ]
  },
  {
   "cell_type": "markdown",
   "id": "c9c4a2d9",
   "metadata": {},
   "source": [
    "<img src=\"slides/le07/NoSQL/NoSQL-27.png\" title=\"Типы NoSQL 1\" width=\"400\" height=\"400\"/>\n",
    "\n",
    "<img src=\"slides/le07/NoSQL/NoSQL-28.png\" title=\"Типы NoSQL 2\" width=\"400\" height=\"400\"/>\n",
    "\n",
    "<img src=\"slides/le07/NoSQL/NoSQL-29.png\" title=\"Key/Value DB\" width=\"400\" height=\"400\"/>\n",
    "\n",
    "<img src=\"slides/le07/NoSQL/NoSQL-30.png\" title=\"Column based db\" width=\"400\" height=\"400\"/>"
   ]
  },
  {
   "cell_type": "markdown",
   "id": "12963075",
   "metadata": {},
   "source": [
    "# 7.3 Введение в HBase"
   ]
  },
  {
   "cell_type": "markdown",
   "id": "66390512",
   "metadata": {},
   "source": [
    "<img src=\"slides/le07/HBase/HBase-02.png\" title=\"Особенности HBase 1\" width=\"400\" height=\"400\"/>\n",
    "\n",
    "<img src=\"slides/le07/HBase/HBase-03.png\" title=\"Особенности HBase 2\" width=\"400\" height=\"400\"/>\n",
    "\n",
    "<img src=\"slides/le07/HBase/HBase-04.png\" title=\"Особенности HBase 3\" width=\"400\" height=\"400\"/>"
   ]
  },
  {
   "cell_type": "markdown",
   "id": "a7f56a1d",
   "metadata": {},
   "source": [
    "<img src=\"slides/le07/HBase/HBase-05.png\" title=\"Когда нужно использовать HBase\" width=\"400\" height=\"400\"/>\n",
    "\n",
    "<img src=\"slides/le07/HBase/HBase-06.png\" title=\"Когда нужно использовать HBAse\" width=\"400\" height=\"400\"/>"
   ]
  },
  {
   "cell_type": "markdown",
   "id": "af4f99b2",
   "metadata": {},
   "source": [
    "<img src=\"slides/le07/HBase/HBase-07.png\" title=\"Когда не нужно использовать HBase\" width=\"400\" height=\"400\"/>"
   ]
  },
  {
   "cell_type": "markdown",
   "id": "bd4a2a9c",
   "metadata": {},
   "source": [
    "## Модель данных HBase\n",
    "\n",
    "<img src=\"slides/le07/HBase/HBase-08.png\" title=\"Модель данных HBase\" width=\"400\" height=\"400\"/>\n",
    "\n",
    "- Есть таблица.\n",
    "- Таблица состоит из набора строк.\n",
    "- В каждой строке есть одно выделенное поле-ключ. Главвное поле, по которому осуществляется доступ к строке. Ключ может быть любого типа, потому что для HBase **ключ будет являться массивом байтов**.\n",
    "- Все значения в каждой строке делятся на **column family**. Такое вертикальное деление таблицы.\n",
    "- Значения в каждой ячейке могут быть разного типа: строки, числа, булево. Hbase не знает какого типа лежат значения в каждой ячейке, он знает, что там лежит массив байт.\n",
    "- Каждая ячейка может иметь несколько версий. Количество версий задается в конфигурации. Это позволяет хранить несколько последних версий в каждой колонке."
   ]
  },
  {
   "cell_type": "markdown",
   "id": "e51ac3a0",
   "metadata": {},
   "source": [
    "## Hbase column family\n",
    "\n",
    "<img src=\"slides/le07/HBase/HBase-09.png\" title=\"HBase column family 1\" width=\"400\" height=\"400\"/>\n",
    "\n",
    "<img src=\"slides/le07/HBase/HBase-10.png\" title=\"HBase column family 2\" width=\"400\" height=\"400\"/>\n",
    "\n",
    "Колонки могут быть с одинаковыми названиями в разных column family."
   ]
  },
  {
   "cell_type": "markdown",
   "id": "a1ab8fab",
   "metadata": {},
   "source": [
    "## HBase timestamps\n",
    "\n",
    "<img src=\"slides/le07/HBase/HBase-12.png\" title=\"HBase timestamps\" width=\"400\" height=\"400\"/>\n",
    "\n",
    "Сохраняются только последние 3 результата (при условии опции = 3)."
   ]
  },
  {
   "cell_type": "markdown",
   "id": "e3f93ee5",
   "metadata": {},
   "source": [
    "## Степень свободы\n",
    "\n",
    "<img src=\"slides/le07/HBase/HBase-13.png\" title=\"Степень свободы HBase\" width=\"400\" height=\"400\"/>"
   ]
  },
  {
   "cell_type": "markdown",
   "id": "446e82c0",
   "metadata": {},
   "source": [
    "## Пример\n",
    "\n",
    "<img src=\"slides/le07/HBase/HBase-14.png\" title=\"Пример таблицы HBase\" width=\"400\" height=\"400\"/>\n",
    "\n",
    "Считываение строки осуществляется выбором крайних заполненных значений по timestamp-у."
   ]
  },
  {
   "cell_type": "markdown",
   "id": "b5af0115",
   "metadata": {},
   "source": [
    "# 7.4 Архитектура HBase"
   ]
  },
  {
   "cell_type": "markdown",
   "id": "2eccb2e8",
   "metadata": {},
   "source": [
    "<img src=\"slides/le07/HBase/HBase-16.png\" title=\"Архитектура HBase\" width=\"400\" height=\"400\"/>\n",
    "\n",
    "- Предположим, что column1 и column3 относятся к одной column family. \n",
    "- Данные одной column family могут храниться в одном или нескольких HFile. \n",
    "- HFile состоит из строчек. \n",
    "- Строчка содержит информацию о каком-то значении. Данные одной строки таблицы будут состоять из нескольких строк в HFile.\n",
    "- Данные отсортированы по ключу."
   ]
  },
  {
   "cell_type": "markdown",
   "id": "5801099c",
   "metadata": {},
   "source": [
    "## Масштабируемость HBase\n",
    "\n",
    "<img src=\"slides/le07/HBase/HBase-17.png\" title=\"Масштабируемость HBase\" width=\"400\" height=\"400\"/>\n",
    "\n",
    "- Регион является единицой шардирования. Один регион не может располагаться на разных серверах.\n",
    "- Когда регион разрастается, его следует поделить. Процедура деления - сплитование."
   ]
  },
  {
   "cell_type": "markdown",
   "id": "c9cc413c",
   "metadata": {},
   "source": [
    "## Регионы HBase\n",
    "\n",
    "<img src=\"slides/le07/HBase/HBase-18.png\" title=\"Пример регионов\" width=\"400\" height=\"400\"/>\n",
    "\n",
    "<img src=\"slides/le07/HBase/HBase-19.png\" title=\"Пример регионов\" width=\"400\" height=\"400\"/>"
   ]
  },
  {
   "cell_type": "markdown",
   "id": "975ed34f",
   "metadata": {},
   "source": [
    "## Деление регионов\n",
    "\n",
    "<img src=\"slides/le07/HBase/HBase-20.png\" title=\"HBase region spli\" width=\"400\" height=\"400\"/>\n"
   ]
  },
  {
   "cell_type": "markdown",
   "id": "bf107a69",
   "metadata": {},
   "source": [
    "## Общая архитектура HBase\n",
    "\n",
    "<img src=\"slides/le07/HBase/HBase-21.png\" title=\"Общая архитектура HBase\" width=\"400\" height=\"400\"/>\n",
    "\n",
    "- Мы будем общаться с HBase как client.\n",
    "- Client может читать данные из HBase или записывать данные в HBase.\n",
    "    - Чтение может производиться по ключу или по диапозону ключей.\n",
    "    - Запись происходит по ключу.\n",
    "- Основной запрос client-а, который он делает HMaster-у: в каком Region server лежит Region с соответствующим ключом. Ответ приходит.\n",
    "- HMaster определяет на каких Region server-ах хранятся регионы таблиц. \n",
    "    - Сами по себе Region server-а ничего не знают про соседние сервера. Этой информацией обладает только HMaster. Поэтому client и делает запрос в HMaster, чтобы вручную не обходить все сервера.\n",
    "- HMaster не только хранит, но и управляет инфомрацией, а это значит, что он может переназначать регионы на сервера. К примеру, если регион делится или появился новый сервер.\n",
    "\n",
    "- Все регионы хранятся в HFile. Все Column Family могут состоять из одного или нескольких HFile. И все эти файлы хранятся в HDFS.\n",
    "- HDFS - абстрактная файловая система, которая работает на конкретных серверах с локальной файловой системой и каждый блок фактически находится на разных серверах. Если какой-либо Hadoop сервер выйдет из строя, то данные HFile берутся из реплики HDFS блока. HBase приобретает надежность HDFS.\n",
    "- В HDFS есть недостаток: нельзя получать доступ к произвольной части данных. Весь механизм HBase служит возможность менять произвольные части HFile. Таким образом мы обходим этот недостаток HDFS."
   ]
  },
  {
   "cell_type": "markdown",
   "id": "88a51a0c",
   "metadata": {},
   "source": [
    "## Data storage HBase\n",
    "\n",
    "<img src=\"slides/le07/HBase/HBase-22.png\" title=\"Data storage HBase\" width=\"400\" height=\"400\"/>"
   ]
  },
  {
   "cell_type": "markdown",
   "id": "7af29f5e",
   "metadata": {},
   "source": [
    "\n",
    "<img src=\"slides/le07/HBase/HBase-23.png\" title=\"Data storage HBase\" width=\"400\" height=\"400\"/>\n",
    "\n",
    "Region состоит из:\n",
    "- HLog file - будет хранить все изменения, которые будут происходить с соответствующим region для легкости восстановления в случае потери данных.\n",
    "- Каждое хранилище Store отвечает за свою Column family. Каждая column family состоит из:\n",
    "    - Главный элемент HFile-ы, которые содержат наши данные, а хранятся в HDFS. Column family может состоять из нескольких файлов. \n",
    "    - Есть еще хранилище в памяти MemStore. Тут хранятся данные, которые еще не записаны в HFile. Данные в памяти могут потеряться, но чтобы они не потерялись - есть LogFile.\n",
    "    \n",
    "Запись данных в region осуществляется: \n",
    "- Client хочет записать некоторые данные key -> value.\n",
    "- Client идет к HMaster и узнает в какой region нужно записать и далее общаяется с region server-ом.\n",
    "- Данные, которые он хочет записать, попадают в Logfile и в хранилище данных MemStore.\n",
    "- Далее все данные из MemStore запишутся в новый HFile.\n",
    "- Соответствующий файл будет храниться где-то в HDFS.\n",
    "\n",
    "Операция чтения:\n",
    "- Client хочет прочитать данные с некоторым ключом.\n",
    "- HMaster сказал в каком region можно их прочитать.\n",
    "- Где в Column Family могут находиться наши данные? В HFile_1, *_2 ... или вообще в Memstore?\n",
    "    - Для одного key у нас есть [v1, v2, v3 ..]. Эти данные были записаны в разное время с разными timestamp.\n",
    "- Т.о. чтобы прочитать данные мы должны прочитать все HFile и еще из memstore и определить какие данные будут подходящие по timestamp.\n",
    "\n",
    "Удаление данных по ключу:\n",
    "- Client хочет удалить данные по ключу.\n",
    "- HMaster указал region.\n",
    "- Данные по нашему ключу могут находиться в разных HFile. Более того, это же файл из HDFS, а он не поддерживает такую возможность.\n",
    "- Данные с соответствующим ключом записываются в Memstore и маркируются \"на удаление\".\n",
    "- Client 2 если захочет прочитать данные с этим ключом, то он увидет в разных HFile [v1, v2, v3 ... D ]. Система читает, видит метку на удаление и отвечает client 2, что данных по этому ключу нет. **Физически данные так и останутся в HFile, они не будут удалены**.\n",
    "- Если мы хотим удалить физически данные по ключу, то **нам потребуется обьединить все HFile-ы**."
   ]
  },
  {
   "cell_type": "markdown",
   "id": "598e4167",
   "metadata": {},
   "source": [
    "## Операция объединения compaction\n",
    "\n",
    "<img src=\"slides/le07/HBase/HBase-25.png\" title=\"Data storage HBase\" width=\"400\" height=\"400\"/>\n"
   ]
  },
  {
   "cell_type": "markdown",
   "id": "008dd778",
   "metadata": {},
   "source": [
    "## Запрос данных из HBase\n",
    "\n",
    "<img src=\"slides/le07/HBase/HBase-27.png\" title=\"Запрос данных из HBase\" width=\"400\" height=\"400\"/>\n",
    "\n",
    "<img src=\"slides/le07/HBase/HBase-28.png\" title=\"Запрос данных из HBase\" width=\"400\" height=\"400\"/>"
   ]
  },
  {
   "cell_type": "markdown",
   "id": "b4228ea8",
   "metadata": {},
   "source": [
    "# 7.5: Cassandra"
   ]
  },
  {
   "cell_type": "markdown",
   "id": "04131fcc",
   "metadata": {},
   "source": [
    "<img src=\"slides/le07/HBase/HBase-30.png\" title=\"Cassandra\" width=\"400\" height=\"400\"/>\n",
    "\n",
    "<img src=\"slides/le07/HBase/HBase-31.png\" title=\"Cassandra\" width=\"400\" height=\"400\"/>\n",
    "\n",
    "<img src=\"slides/le07/HBase/HBase-32.png\" title=\"Cassandra\" width=\"400\" height=\"400\"/>\n",
    "\n",
    "<img src=\"slides/le07/HBase/HBase-33.png\" title=\"Cassandra\" width=\"400\" height=\"400\"/>"
   ]
  },
  {
   "cell_type": "markdown",
   "id": "bb4b5f15",
   "metadata": {},
   "source": [
    "## Пример запроса\n",
    "\n",
    "<img src=\"slides/le07/HBase/HBase-34.png\" title=\"Cassandra\" width=\"400\" height=\"400\"/>"
   ]
  },
  {
   "cell_type": "markdown",
   "id": "aa0e9352",
   "metadata": {},
   "source": [
    "## Supercolumn\n",
    "\n",
    "<img src=\"slides/le07/HBase/HBase-35.png\" title=\"Cassandra\" width=\"400\" height=\"400\"/>\n",
    "\n",
    "SuperColumn своего рода группировка колонок. Наподобие Column Family."
   ]
  },
  {
   "cell_type": "markdown",
   "id": "e1b29ecc",
   "metadata": {},
   "source": [
    "## Чтение запись\n",
    "\n",
    "<img src=\"slides/le07/HBase/HBase-37.png\" title=\"Cassandra\" width=\"400\" height=\"400\"/>\n",
    "\n",
    "<img src=\"slides/le07/HBase/HBase-38.png\" title=\"Cassandra\" width=\"400\" height=\"400\"/>"
   ]
  },
  {
   "cell_type": "markdown",
   "id": "a816235d",
   "metadata": {},
   "source": []
  }
 ],
 "metadata": {
  "hide_input": false,
  "kernelspec": {
   "display_name": "Python 3",
   "language": "python",
   "name": "python3"
  },
  "language_info": {
   "codemirror_mode": {
    "name": "ipython",
    "version": 3
   },
   "file_extension": ".py",
   "mimetype": "text/x-python",
   "name": "python",
   "nbconvert_exporter": "python",
   "pygments_lexer": "ipython3",
   "version": "3.8.5"
  },
  "toc": {
   "base_numbering": 1,
   "nav_menu": {},
   "number_sections": false,
   "sideBar": true,
   "skip_h1_title": false,
   "title_cell": "Table of Contents",
   "title_sidebar": "Contents",
   "toc_cell": false,
   "toc_position": {},
   "toc_section_display": true,
   "toc_window_display": false
  },
  "varInspector": {
   "cols": {
    "lenName": 16,
    "lenType": 16,
    "lenVar": 40
   },
   "kernels_config": {
    "python": {
     "delete_cmd_postfix": "",
     "delete_cmd_prefix": "del ",
     "library": "var_list.py",
     "varRefreshCmd": "print(var_dic_list())"
    },
    "r": {
     "delete_cmd_postfix": ") ",
     "delete_cmd_prefix": "rm(",
     "library": "var_list.r",
     "varRefreshCmd": "cat(var_dic_list()) "
    }
   },
   "types_to_exclude": [
    "module",
    "function",
    "builtin_function_or_method",
    "instance",
    "_Feature"
   ],
   "window_display": false
  }
 },
 "nbformat": 4,
 "nbformat_minor": 5
}
