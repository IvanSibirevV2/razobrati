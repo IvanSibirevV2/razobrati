{
 "cells": [
  {
   "cell_type": "markdown",
   "metadata": {},
   "source": [
    "# Container Orchestration with Kubernetes"
   ]
  },
  {
   "cell_type": "markdown",
   "metadata": {},
   "source": [
    "## Concept 02: Transitions from VMs to Containers"
   ]
  },
  {
   "cell_type": "markdown",
   "metadata": {},
   "source": [
    "<img src=\"imgs/le03ex02im01.png\" title=\"The transition from VMs to containers\"  />"
   ]
  },
  {
   "cell_type": "markdown",
   "metadata": {},
   "source": [
    "## Concept 03: Docker for Application Packaging"
   ]
  },
  {
   "cell_type": "markdown",
   "metadata": {},
   "source": [
    "3 main components are distinguished: **Dockerfiles**, **Docker images**, and **Docker registries**."
   ]
  },
  {
   "cell_type": "markdown",
   "metadata": {},
   "source": [
    "### New terms\n",
    "- **Dockerfile** - set of instructions used to create a Docker image\n",
    "- **Docker image** - a read-only template used to spin up a runnable instance of an application\n",
    "- **Docker registry** - a central mechanism to store and distribute Docker images"
   ]
  },
  {
   "cell_type": "markdown",
   "metadata": {},
   "source": [
    "### Further reading\n",
    "Explore Dockerfiles best practices and valid list of instructions:\n",
    "- [Dockerfile reference](https://docs.docker.com/engine/reference/builder/#from)\n",
    "- [Best practices for writing Dockerfiles](https://docs.docker.com/develop/develop-images/dockerfile_best-practices/)\n",
    "\n",
    "Explore how to build and run a Docker image, with a list of all available options:\n",
    "- [Docker Build command](https://docs.docker.com/engine/reference/commandline/build/)\n",
    "- [Docker Run command](https://docs.docker.com/engine/reference/commandline/run/)\n",
    "\n",
    "Explore Docker registries, alternatives to package an application, and OCI standards:\n",
    "- [Introduction to Docker registry](https://docs.docker.com/registry/introduction/)\n",
    "- [Docker Tag command](https://docs.docker.com/engine/reference/commandline/tag/)\n",
    "- [Docker Push command](https://docs.docker.com/engine/reference/commandline/push/)\n",
    "- [Demystifying the Open Container Initiative (OCI) Specifications](https://www.docker.com/blog/demystifying-open-container-initiative-oci-specifications/)\n",
    "- [Buildpacks: An App’s Brief Journey from Source to Image](https://buildpacks.io/docs/app-journey/)"
   ]
  },
  {
   "cell_type": "markdown",
   "metadata": {},
   "source": [
    "### Dockerfile\n",
    "\n",
    "A Dockerfile is a set of instructions used to create a Docker image. Each instruction is an operation used to package the application, such as installing dependencies, compile the code, or impersonate a specific user. A Docker image is composed of multiple layers, and each layer is represented by an instruction in the Dockerfile. **All layers are cached and if an instruction is modified, then during the build process only the changed layer will be rebuild**. As a result, building a Docker image using a Dockerfile is a lightweight and quick process."
   ]
  },
  {
   "cell_type": "markdown",
   "metadata": {},
   "source": [
    "```docker\n",
    "FROM -  to set the base image\n",
    "RUN - to execute a command\n",
    "COPY & ADD  - to copy files from host to the container\n",
    "CMD - to set the default command to execute when the container starts\n",
    "EXPOSE - to expose an application port \n",
    "```"
   ]
  },
  {
   "cell_type": "markdown",
   "metadata": {},
   "source": [
    "```dockerfile\n",
    "# set the base image. Since we're running \n",
    "# a Python application a Python base image is used\n",
    "FROM python:3.8\n",
    "# set a key-value label for the Docker image\n",
    "LABEL maintainer=\"Katie Gamanji\"\n",
    "# copy files from the host to the container filesystem. \n",
    "# For example, all the files in the current directory\n",
    "# to the  `/app` directory in the container\n",
    "COPY . /app\n",
    "#  defines the working directory within the container\n",
    "WORKDIR /app\n",
    "# run commands within the container. \n",
    "# For example, invoke a pip command \n",
    "# to install dependencies defined in the requirements.txt file. \n",
    "RUN pip install -r requirements.txt\n",
    "# provide a command to run on container start. \n",
    "# For example, start the `app.py` application.\n",
    "CMD [ \"python\", \"app.py\" ]\n",
    "```"
   ]
  },
  {
   "cell_type": "markdown",
   "metadata": {},
   "source": [
    "### Docker Image\n",
    "\n",
    "A Docker image is a read-only template that enables the creation of a runnable instance of an application."
   ]
  },
  {
   "cell_type": "markdown",
   "metadata": {},
   "source": [
    "A Docker image can be built from an existing Dockerfile using the docker build command. Below is the syntax for this command:\n",
    "```bash\n",
    "# build an image\n",
    "# OPTIONS - optional;  define extra configuration\n",
    "# PATH - required;  sets the location of the Dockefile and  any referenced files \n",
    "docker build [OPTIONS] PATH\n",
    "\n",
    "# Where OPTIONS can be:\n",
    "-t, --tag - set the name and tag of the image\n",
    "-f, --file - set the name of the Dockerfile\n",
    "--build-arg - set build-time variables\n",
    "\n",
    "# Find all valid options for this command \n",
    "docker build --help\n",
    "```"
   ]
  },
  {
   "cell_type": "markdown",
   "metadata": {},
   "source": [
    "For example, to build the image of the Python hello-world application from the Dockerfile, the following command can be used:\n",
    "```bash\n",
    "# build an image using the Dockerfile from the current directory\n",
    "docker build -t python-helloworld .\n",
    "\n",
    "# build an image using the Dockerfile from the `lesson1/python-app` directory\n",
    "docker build -t python-helloworld lesson1/python-app\n",
    "```"
   ]
  },
  {
   "cell_type": "markdown",
   "metadata": {},
   "source": [
    "To create a container using an available Docker image, the docker run command is available. Below is the syntax for this command:\n",
    "```bash\n",
    "# execute an image\n",
    "# OPTIONS - optional;  define extra configuration\n",
    "# IMAGE -  required; provides the name of the image to be executed\n",
    "# COMMAND and ARGS - optional; instruct the container to run specific commands when it starts \n",
    "docker run [OPTIONS] IMAGE [COMMAND] [ARG...]\n",
    "\n",
    "# Where OPTIONS can be:\n",
    "-d, --detach - run in the background \n",
    "-p, --publish - expose container port to host\n",
    "-it - start an interactive shell\n",
    "\n",
    "# Find all valid options for this command \n",
    "docker run --help\n",
    "```"
   ]
  },
  {
   "cell_type": "markdown",
   "metadata": {},
   "source": [
    "For example, to run the Python hello-world application, using the created image, the following command can be used:\n",
    "\n",
    "**Note**: To access the application in a browser, we need to bind the Docker container port to a port on the host or local machine. In this case, `5111` is the host port that we use to access the application e.g. `http://127.0.0.1:5111/`. The `5000` is the container port that the application is listening to for incoming requests.\n",
    "\n",
    "```bash\n",
    "# run the `python-helloworld` image, in detached mode and expose it on port `5111`\n",
    "docker run -d -p 5111:5000 python-helloworld\n",
    "```"
   ]
  },
  {
   "cell_type": "markdown",
   "metadata": {},
   "source": [
    "To retrieve the Docker container logs use the `docker logs {{ CONTAINER_ID }}` command. For example:\n",
    "```bash\n",
    "docker logs 95173091eb5e\n",
    "\n",
    "## Example output from a Flask application\n",
    " * Serving Flask app \"app\" (lazy loading)\n",
    " * Environment: production\n",
    "   WARNING: This is a development server. Do not use it in a production deployment.\n",
    "   Use a production WSGI server instead.\n",
    " * Debug mode: off\n",
    "```"
   ]
  },
  {
   "cell_type": "markdown",
   "metadata": {},
   "source": [
    "### Docker Registry\n",
    "\n",
    "The last step in packaging an application using Docker is to store and distribute it. So far, we have built and tested an image on the local machine, which does not ensure that other engineers have access to it. As a result, the image needs to be pushed to a public Docker image registry, such as DockerHub, Harbor, Google Container Registry, and many more."
   ]
  },
  {
   "cell_type": "markdown",
   "metadata": {},
   "source": [
    "Before pushing an image to a Docker registry, it is highly recommended to tag it first. During the build stage, if a tag is not provided (via the `-t` or `--tag` flag), then the image would be allocated an ID, which does not have a human-readable format (e.g. 0e5574283393). On the other side, a defined tag is easily scalable by the human eye, as it is composed of a registry repository, image name, and version. Also, a tag provides version control over application releases, as a new tag would indicate a new release.\n",
    "\n",
    "To tag an existing image on the local machine, the `docker tag` command is available. Below is the syntax for this command:\n",
    "```bash\n",
    "# tag an image\n",
    "# SOURCE_IMAGE[:TAG]  - required and the tag is optional; define the name of an image on the current machine \n",
    "# TARGET_IMAGE[:TAG] -  required and the tag is optional; define the repository, name, and version of an image\n",
    "docker tag SOURCE_IMAGE[:TAG] TARGET_IMAGE[:TAG]\n",
    "```\n",
    "\n",
    "For example:\n",
    "```bash\n",
    "# tag the `python-helloworld` image, to be pushed \n",
    "# in the `pixelpotato` repository, with the `python-helloworld` image name\n",
    "# and version `v1.0.0`\n",
    "docker tag python-helloworld pixelpotato/python-helloworld:v1.0.0\n",
    "```"
   ]
  },
  {
   "cell_type": "markdown",
   "metadata": {},
   "source": [
    "Once the image is tagged, the final step is to push the image to a registry. For this purpose, the `docker push` command can be used. Below is the syntax for this command:\n",
    "```bash\n",
    "# push an image to a registry \n",
    "# NAME[:TAG] - required and the tag is optional; name, set the image name to be pushed to the registry\n",
    "docker push NAME[:TAG]\n",
    "```\n",
    "\n",
    "For example:\n",
    "```bash\n",
    "# push the `python-helloworld` application in version v1.0.0 \n",
    "# to the `pixelpotato` repository in DockerHub\n",
    "docker push pixelpotato/python-helloworld:v1.0.0\n",
    "```"
   ]
  },
  {
   "cell_type": "markdown",
   "metadata": {},
   "source": [
    "## Concept 05: Useful Docker Commands\n",
    "\n",
    "**Note**: In the following commands the following arguments are used:\n",
    "- `OPTIONS` - define extra configuration through flags\n",
    "- `IMAGE` - sets the name of the image\n",
    "- `NAME` - set the name of the image\n",
    "- `COMMAND` and `ARG` - instruct the container to run specific commands associated with a set of arguments"
   ]
  },
  {
   "cell_type": "markdown",
   "metadata": {},
   "source": [
    "```bash\n",
    "# Build image\n",
    "docker build [OPTIONS] PATH\n",
    "\n",
    "# Run image\n",
    "docker run [OPTIONS] IMAGE [COMMAND] [ARG...]\n",
    "\n",
    "# Get logs\n",
    "docker logs CONTAINER_ID\n",
    "\n",
    "# List images\n",
    "docker images\n",
    "\n",
    "# List containers\n",
    "docker ps\n",
    "\n",
    "# Tag Images\n",
    "docker tag SOURCE_IMAGE[:TAG] TARGET_IMAGE[:TAG]\n",
    "\n",
    "# Login to DockerHub\n",
    "docker login\n",
    "\n",
    "# Push image\n",
    "docker push NAME[:TAG]\n",
    "\n",
    "# Pull image\n",
    "docker pull NAME[:TAG]\n",
    "```"
   ]
  },
  {
   "cell_type": "markdown",
   "metadata": {},
   "source": [
    "## Concept 09: Kubernetes - The Container Orchestrator Framework"
   ]
  },
  {
   "cell_type": "markdown",
   "metadata": {},
   "source": [
    "### New terms\n",
    "- **CRD** - Custom Resource Definition provides the ability to extend Kubernetes API and create new resources\n",
    "- **Node** - a physical or virtual server\n",
    "- **Cluster** - a collection of distributed nodes that are used to manage and host workloads\n",
    "- **Master node** - a node from the Kubernetes control plane, that has installed components to make global, cluster-level decisions\n",
    "- **Worker node** - a node from the Kubernetes data plane, that has installed components to host workloads"
   ]
  },
  {
   "cell_type": "markdown",
   "metadata": {},
   "source": [
    "### Further Reading\n",
    "Explore Kubernetes features:\n",
    "- [Kubernetes DNS for Services and Pods](https://kubernetes.io/docs/concepts/services-networking/dns-pod-service/)\n",
    "- [Kubernetes CRDs](https://kubernetes.io/docs/concepts/extend-kubernetes/api-extension/custom-resources/)\n",
    "- [Kubernete Cluster Autoscaler](https://kubernetes.io/blog/2016/07/autoscaling-in-kubernetes/)\n",
    "- [Kubernetes Architecture and Components](https://kubernetes.io/docs/concepts/overview/components/)\n",
    "---"
   ]
  },
  {
   "cell_type": "markdown",
   "metadata": {},
   "source": [
    "Kubernetes analogs:\n",
    "- Docker Swarm\n",
    "- Apache Mesos\n",
    "- CoreOS Fleet"
   ]
  },
  {
   "cell_type": "markdown",
   "metadata": {},
   "source": [
    "#### Portability\n",
    "Kubernetes is a highly portable tool. This is due to its open-source nature and vendor agnosticism. As such, Kubernetes can be hosted on any available infrastructure, including public, private, and hybrid cloud.\n",
    "\n",
    "#### Scalability\n",
    "Building for scale is a cornerstone of any modern infrastructure, enabling an application to scale based on the amount of incoming traffic. Kubernetes has in-build resources, such as HPA (Horizontal Pod Autoscaler), to determine the required amount of replicas for a service. Elasticity is a core feature that is highly automated within Kubernetes.\n",
    "\n",
    "#### Resilience\n",
    "Failure is expected on any platform. However, it is more important to be able to recover from failure fast and build a set of playbooks that minimizes the downtime of an application. Kubernetes uses functionalities like ReplicaSet, readiness, and liveness probes to handle most of the container failures, which enables powerful self-healing capability.\n",
    "\n",
    "#### Service Discovery\n",
    "Service discovery encapsulates the ability to automatically identify and reach new services once these are available. Kubernetes provide cluster level DNS (or Domain Name System), which simplifies the accessibility of workloads within the cluster. Additionally, Kubernetes provides routing and load balancing of incoming traffic, ensuring that all requests are served without application overload.\n",
    "\n",
    "#### Extensibility\n",
    "Kubernetes is a highly extensible mechanism that uses the building-block principle. It has a set of basic resources that can be easily adjusted. Additionally, it provides a rich API interface, that can be extended to accommodate new resources or CRDs (Custom Resource Definitions).\n",
    "\n",
    "#### Operational Cost\n",
    "Operational cost refers to the efficiency of resource consumption within a Kubernetes cluster, such as CPU and memory. Kubernetes has a powerful scheduling mechanism that places an application on the node with sufficient resources to ensure the successful execution of the service. As a result, most of the available infrastructure resources are allocated on-demand. Additionally, it is possible to automatically scale the size of the cluster based on the current incoming traffic. This capability is provisioned by the cluster-autoscaler, which guarantees that the cluster size is directly proportional to the traffic that it needs to handle.\n",
    "\n",
    "---"
   ]
  },
  {
   "cell_type": "markdown",
   "metadata": {},
   "source": [
    "### Kubernetes Architecture\n",
    "\n",
    "<img src=\"imgs/le03ex09im01.png\" title=\"Kubernetes architecture, composed of control and data planes\"  />\n",
    "\n",
    "A Kubernetes cluster is composed of a collection of distributed physical or virtual servers. These are called **nodes**. Nodes are categorized into 2 main types: \n",
    "- **Master**: the suite of master nodes, represents the **control plane**;\n",
    "- **Worker nodes**: the collection of worker nodes constructs the **data plane**.\n",
    "\n",
    "The components installed on a node, determine the functionality of a node, and identifies it as a master or worker node."
   ]
  },
  {
   "cell_type": "markdown",
   "metadata": {},
   "source": [
    "### Control Plane\n",
    "\n",
    "<img src=\"imgs/le03ex09im02.png\" title=\"Control Plane components\"  />\n",
    "\n",
    "The control plane consists of components that make global decisions about the cluster. These components are the:\n",
    "- **kube-apiserver**: the nucleus of the cluster that exposes the Kubernetes API, and handles and triggers any operations within the cluster\n",
    "- **kube-scheduler**: the mechanism that places the new workloads on a node with sufficient satisfactory resource requirements\n",
    "- **kube-controller-manager**: the component that handles controller processes. It ensures that the desired configuration is propagated to resources\n",
    "- **etcd**: the key-value store, used for backs-up and keeping manifests for the entire cluster\n",
    "\n",
    "There are two additional components on the control plane, they are **kubelet** and **k-proxy**. These two are special and important as they are installed on all node. You can see the Data Plane below for more details."
   ]
  },
  {
   "cell_type": "markdown",
   "metadata": {},
   "source": [
    "### Data plane\n",
    "\n",
    "<img src=\"imgs/le03ex09im03.png\" title=\"Data Plane conponents\"  />\n",
    "\n",
    "The data plane consists of the compute used to host workloads. The components installed on a worker node are the:\n",
    "- **kubelet**: the agent that runs on every node and notifies the kube- apiserver that this node is part of the cluster\n",
    "- **kube-proxy**: a network proxy that ensures the reachability and accessibility of workloads places on this specific node\n",
    "\n",
    "**Important Note**: The kubelet and kube-proxy components are installed on all the nodes in the cluster (master and worker nodes). These components keep the kube-apiserver up-to-date with a list of nodes in the cluster and manages the connectivity and reachability of the workloads."
   ]
  },
  {
   "cell_type": "markdown",
   "metadata": {},
   "source": [
    "## Concept 11: Deploy Your First Kubernetes Cluster"
   ]
  },
  {
   "cell_type": "markdown",
   "metadata": {},
   "source": [
    "### New terms\n",
    "**Bootstrap** - the process of provisioning a Kubernetes cluster, by ensuring that each node has the necessary components to be fully operational"
   ]
  },
  {
   "cell_type": "markdown",
   "metadata": {},
   "source": [
    "### Further reading\n",
    "[Bootstrapping clusters with kubeadm](https://kubernetes.io/docs/setup/production-environment/tools/kubeadm/) - a step-by-step guide on how to use kubeadm to provision a cluster\n",
    "\n",
    "---"
   ]
  },
  {
   "cell_type": "markdown",
   "metadata": {},
   "source": [
    "To handle the bootstrapping of a cluster automatically:\n",
    "- **Production**-grade clusters\n",
    "    - [kubeadm](https://kubernetes.io/docs/setup/production-environment/tools/kubeadm/install-kubeadm/)\n",
    "    - [Kubespray](https://github.com/kubernetes-sigs/kubespray)\n",
    "    - [Kops](https://github.com/kubernetes/kops)\n",
    "    - [K3s](https://k3s.io/)\n",
    "- **Developmnet**-grade clusters\n",
    "    - [kind](https://kind.sigs.k8s.io/docs/user/quick-start/)\n",
    "    - [minikube](https://minikube.sigs.k8s.io/docs/start/)\n",
    "    - [k3d](https://k3d.io/)\n",
    "    \n",
    "A good introduction to k3d, written by k3d's creator Thorsten Klein, can be found [here](https://www.suse.com/c/introduction-k3d-run-k3s-docker-src/). \n",
    "\n",
    "A comprehensive overview of currently existing lightweight kubernetes distros can be found [here](https://www.suse.com/c/running-a-local-kubernetes-cluster-k3s-src).\n",
    "\n"
   ]
  },
  {
   "cell_type": "markdown",
   "metadata": {},
   "source": [
    "### Create Vagrant Box And Install Kubernetes with k3s"
   ]
  },
  {
   "cell_type": "markdown",
   "metadata": {},
   "source": [
    "This demo is a step-by-step guide on how to create a vagrant box and install a Kubernetes cluster using k3s. \n",
    "\n",
    "To follow this demo, reference the [Vagrantfile](https://github.com/udacity/nd064_course_1/blob/main/exercises/Vagrantfile) from the course repository.\n",
    "\n",
    "A nice introduction to Vagrant can be found in [this article](https://community.suse.com/posts/vagrant-never-gets-old).\n",
    "\n",
    "Prepare:\n",
    "- [VirtualBox](https://www.virtualbox.org/wiki/Downloads) > `6.1.16`\n",
    "- install [Vagrant](https://www.vagrantup.com/)\n",
    "\n",
    "**Note**: I had a conflict with a Mac Aiport ip and a Vagrant network ip. I changed in a Vagrant file ip from `192.168.50.4` to `192.168.51.4`. Simple remove the virtual image if someone goes wrong.\n",
    "\n",
    "```\n",
    "Bridged Network Address: '192.168.50.0'\n",
    "Host-only Network 'en0: Wi-Fi (AirPort)': '192.168.50.0'\n",
    "```\n",
    "\n",
    "```bash\n",
    "cd <to nd064_cource_1>/exercises\n",
    "\n",
    "# version\n",
    "vagrant version\n",
    "\n",
    "# Running the vmachine\n",
    "vagrant up\n",
    "\n",
    "# Status the vmachine\n",
    "vagrant status\n",
    "\n",
    "# SSH into the vagrant box\n",
    "# Note: this command uses the .vagrant folder to identify the details of the vagrant box\n",
    "vagrant ssh\n",
    "```\n",
    "\n",
    "After ssh into vagrant box follow to [k3s.io](https://k3s.io/) and install cluster in the vbox cli:\n",
    "```\n",
    "vagrant@localhost:~> curl -sfL https://get.k3s.io | sh\n",
    "\n",
    "sudo su\n",
    "\n",
    "# Check claster\n",
    "kubectl get no\n",
    "```\n"
   ]
  },
  {
   "cell_type": "markdown",
   "metadata": {},
   "source": [
    "## Concept 12: Kubeconfig"
   ]
  },
  {
   "cell_type": "markdown",
   "metadata": {},
   "source": [
    "### New terms\n",
    "**Kubeconfig** - a metadata file that grants a user access to a Kubernetes cluster"
   ]
  },
  {
   "cell_type": "markdown",
   "metadata": {},
   "source": [
    "### Further reading\n",
    "[Organizing Cluster Access Using kubeconfig Files](https://kubernetes.io/docs/concepts/configuration/organize-cluster-access-kubeconfig/)\n",
    "\n",
    "---"
   ]
  },
  {
   "cell_type": "markdown",
   "metadata": {},
   "source": [
    "A kubeconfig file has all the necessary cluster metadata and authentication details, that grants the user permission to query the cluster objects.\n",
    "\n",
    "- `~/.kube/config`\n",
    "    - k3s: `/etc/rancher/k3s/k3s.yaml`\n",
    "- `--kubeconfig` flag\n",
    "- `KUBECONFIG` environment variable\n",
    "\n",
    "A Kubeconfig file has 3 main distinct sections:\n",
    "- **Cluster** - encapsulates the metadata for a cluster, such as the name of the cluster, API server endpoint, and certificate authority used to check the identity of the user.\n",
    "- **User** - contains the user details that want access to the cluster, including the user name, and any authentication metadata, such as username, password, token or client, and key certificates.\n",
    "- **Context** - links a user to a cluster. If the user credentials are valid and the cluster is up, access to resources is granted. Also, a `current-context` can be specified, which instructs which context (cluster and user) should be used to query the cluster.\n"
   ]
  },
  {
   "cell_type": "markdown",
   "metadata": {},
   "source": [
    "Kubeconfig example:\n",
    "```\n",
    "apiVersion: v1\n",
    "# define the cluster metadata \n",
    "clusters:\n",
    "- cluster:\n",
    "    certificate-authority-data: {{ CA }}\n",
    "    server: https://127.0.0.1:63668\n",
    "  name: udacity-cluster\n",
    "# define the user details \n",
    "users:\n",
    "# `udacity-user` user authenticates using client and key certificates \n",
    "- name: udacity-user\n",
    "  user:\n",
    "    client-certificate-data: {{ CERT }}\n",
    "    client-key-data: {{ KEY }}\n",
    "# `green-user` user authenticates using a token\n",
    "- name: green-user\n",
    "  user:\n",
    "    token: {{ TOKEN }}\n",
    "# define the contexts \n",
    "contexts:\n",
    "- context:\n",
    "    cluster: udacity-cluster\n",
    "    user: udacity-user\n",
    "  name: udacity-context\n",
    "# set the current context\n",
    "current-context: udacity-context\n",
    "```\n",
    "\n",
    "Once you start handling multiple clusters, you'll find a lot of useful information in [this article](https://community.suse.com/posts/scheduled/cluster-this-is-your-admin-do-you-read)\n",
    "\n"
   ]
  },
  {
   "cell_type": "markdown",
   "metadata": {},
   "source": [
    "## Exercise 14: Deploy Your First Kubernetes Cluster"
   ]
  },
  {
   "cell_type": "markdown",
   "metadata": {},
   "source": [
    "The **kubeconfig file** and `kubectl` commands are the 2 main components that permits the interaction with a Kubernetes cluster.\n",
    "\n",
    "**kubeconfig**:\n",
    "- K3s stores the kubeconfig file under `/etc/rancher/k3s/k3s.yaml` path\n",
    "- API server: `https://127.0.0.1:6443`\n",
    "- authentication mechanism: username (admin) and password\n",
    "\n",
    "**kubectl commands**:\n",
    "- `kubectl cluster-info`: to get the control plane and add-ons endpoints\n",
    "```\n",
    "Kubernetes master is running at https://127.0.0.1:6443\n",
    "CoreDNS is running at https://127.0.0.1:6443/api/v1/namespaces/kube-system/services/kube-dns:dns/proxy\n",
    "Metrics-server is running at https://127.0.0.1:6443/api/v1/namespaces/kube-system/services/https:metrics-server:/proxy\n",
    "```\n",
    "- `kubectl get nodes`: to get all the nodes in the cluster\n",
    "```\n",
    "NAME        STATUS   ROLES    AGE   VERSION\n",
    "localhost   Ready    master   74m   v1.18.9+k3s1\n",
    "```\n",
    "- `kubectl get nodes -o wide`: to get extra details about the nodes, including internal IP\n",
    "```\n",
    "NAME        STATUS   ROLES    AGE   VERSION        INTERNAL-IP   EXTERNAL-IP   OS-IMAGE             KERNEL-VERSION            CONTAINER-RUNTIME\n",
    "localhost   Ready    master   74m   v1.18.9+k3s1   10.0.2.15     <none>        openSUSE Leap 15.2   5.3.18-lp152.47-default   containerd://1.3.3-k3s2\n",
    "```\n",
    "- `kubectl describe node node-name`: to get all the configuration details about the node, including the allocated pod CIDR\n",
    "```\n",
    "kubectl describe node localhost | grep CIDR\n",
    "PodCIDR:                      10.42.0.0/24\n",
    "PodCIDRs:                     10.42.0.0/24\n",
    "```"
   ]
  },
  {
   "cell_type": "markdown",
   "metadata": {},
   "source": [
    "## Concept 16: Kubernetes Resources Part 1"
   ]
  },
  {
   "cell_type": "markdown",
   "metadata": {},
   "source": [
    "### New terms\n",
    "- **Pod** - smallest manageable uint within a cluster that provides the execution environment for an application\n",
    "- **ReplicaSet** - a mechanism to ensure a number of pod replicas are up and running at all times\n",
    "- **Deployment** - describe the desired state of the application to be deployed\n",
    "\n",
    "### Further reading\n",
    "Explore the Kubernetes resources in more detail:\n",
    "- [Kubernetes Pods](https://kubernetes.io/docs/concepts/workloads/pods/)\n",
    "- [Kubernetes Deployments](https://kubernetes.io/docs/concepts/workloads/controllers/deployment/)\n",
    "- [Kubernetes ReplicaSets](https://kubernetes.io/docs/concepts/workloads/controllers/replicaset/)\n",
    "- [Kubernetes RollingOut Strategies](https://kubernetes.io/docs/concepts/workloads/controllers/deployment/#strategy)\n",
    "---\n",
    "\n",
    "Kubernetes provides a rich collection of resources that are used to deploy, configure, and manage an application. Some of the widely used resources are:\n",
    "- **Pods**: the atomic element within a cluster to manage an application\n",
    "- **Deployments & ReplicaSets**: oversees a set of pods for the same application\n",
    "- **Services & Ingress** ensures connectivity and reachability to pods\n",
    "- **Configmaps & Secrets** pass configuration to pods\n",
    "- **Namespaces**: provides a logical separation between multiple applications and their resources\n",
    "- **Custom Resource Definition (CRD)**: - extends Kubernetes API to support custom resources"
   ]
  },
  {
   "cell_type": "markdown",
   "metadata": {},
   "source": [
    "### Application Deployment\n",
    "\n",
    "<img src=\"imgs/le03ex16im01.png\" title=\"Pod architecture, showcasing a container running a Docker image\"  />\n",
    "\n",
    "A **pod** is the anatomic element within a cluster that provides the execution environment for an application. Pods are the smallest manageable units in a Kubernetes cluster. Every pod has a container within it, that executes an application from a Docker image (or any OCI-compliant image). There are use cases where 2-3 containers run within the same pod, however, it is highly recommended to keep the 1:1 ratio between your pods and containers.\n",
    "\n",
    "All the pods are placed on the cluster nodes. A note can host multiple pods for different applications.\n"
   ]
  },
  {
   "cell_type": "markdown",
   "metadata": {},
   "source": [
    "### Deployments and ReplicaSets\n",
    "\n",
    "<img src=\"imgs/le03ex16im02.png\" title=\"Application management using a Deployment and ReplicaSet\"  />\n",
    "\n",
    "To deploy an application to a Kubernetes cluster, a **Deployment** resource is necessary. A Deployment contains the specifications that describe the desired state of the application. Also, the Deployment resource manages pods by using a **ReplicaSet**. A ReplicaSet resource ensures that the desired amount of replicas for an application are up and running at all times.\n",
    "\n",
    "To create a deployment, use the `kubectl create deployment` command, with the following syntax:\n",
    "```bash\n",
    "# create a Deployment resource\n",
    "# NAME - required; set the name of the deployment\n",
    "# IMAGE - required;  specify the Docker image to be executed\n",
    "# FLAGS - optional; provide extra configuration parameters for the resource\n",
    "# COMMAND and args - optional; instruct the container to run specific commands when it starts \n",
    "kubectl create deploy NAME --image=image [FLAGS] -- [COMMAND] [args]\n",
    "\n",
    "# Some of the widely used FLAGS are:\n",
    "-r, --replicas - set the number of replicas\n",
    "-n, --namespace - set the namespace to run\n",
    "--port - expose the container port\n",
    "\n",
    "# create a go-helloworld Deployment in namespace `test`\n",
    "kubectl create deploy go-helloworld --image=pixelpotato/go-helloworld:v1.0.0 -n test\n",
    "```\n",
    "\n",
    "To create a headless pod, the `kubectl run` command is handy, with the following syntax:\n",
    "```bash\n",
    "# create a headless pod\n",
    "# NAME - required; set the name of the pod\n",
    "# IMAGE - required;  specify the Docker image to be executed\n",
    "# FLAGS - optional; provide extra configuration parameters for the resource\n",
    "# COMMAND and args - optional; instruct the container to run specific commands when it starts \n",
    "kubectl run NAME --image=image [FLAGS] -- [COMMAND] [args...]\n",
    "\n",
    "# Some of the widely used FLAGS are:\n",
    "--restart - set the restart policy. Options [Always, OnFailure, Never]\n",
    "--dry-run - dry run the command. Options [none, client, server]\n",
    "-it - open an interactive shell to the container\n",
    "\n",
    "# example: create a busybox pod, with an interactive shell and a restart policy set to Never \n",
    "kubectl run -it busybox-test --image=busybox --restart=Never\n",
    "```"
   ]
  },
  {
   "cell_type": "markdown",
   "metadata": {},
   "source": [
    "### Rolling Out Strategy\n",
    "\n",
    "<img src=\"imgs/le03ex16im03.png\" title=\"Rolling update of an application, between different versions\"  />\n",
    "\n",
    "The Deployment resource comes with a very powerful rolling out strategy, which ensures that no downtime is encountered when a new version of the application is released. Currently, there are 2 rolling out strategies:\n",
    "- **RollingUpdate**: updates the pods in a rolling out fashion (e.g. 1-by-1)\n",
    "- **Recreate**: kills all existing pods before new ones are created"
   ]
  },
  {
   "cell_type": "markdown",
   "metadata": {},
   "source": [
    "## Kubernetes Resources Part 2\n"
   ]
  },
  {
   "cell_type": "markdown",
   "metadata": {},
   "source": [
    "### New terms\n",
    "- **Service** - an abstraction layer over a collection of pods running an application\n",
    "- **Ingress** - a mechanism to manage the access from external users and workloads to the services within the cluster\n",
    "\n",
    "### Further reading\n",
    "Explore Kubernetes resources used to connect to an application:\n",
    "- [Kubernetes Services](https://kubernetes.io/docs/concepts/services-networking/service/)\n",
    "- [Kubernetes Ingress](https://kubernetes.io/docs/concepts/services-networking/ingress/)\n",
    "---\n",
    "\n",
    "### Application Reachability\n",
    "\n",
    "Within a cluster, every pod is allocated 1 unique IP which ensures connectivity and reachability to the application inside the pod. This IP is only routable inside the cluster, meaning that external users and services will not be able to connect to the application."
   ]
  },
  {
   "cell_type": "markdown",
   "metadata": {},
   "source": [
    "### Services\n",
    "\n",
    "<img src=\"imgs/le03ex17im01.png\" title=\"Pods accessibility through a Service resource\"  />\n",
    "\n",
    "A **Service** resource provides an abstraction layer over a collection of pods running an application. A Service is allocated a cluster IP, that can be used to transfer the traffic to any available pods for an application.\n",
    "\n",
    "As such, as shown in the above image, instead of accessing each pod independently, the workload (1) should access the service IP (2), which routes the requests to available pods (3).\n",
    "\n",
    "There are 3 widely used Service types:\n",
    "- **ClusterIP**: exposes the service using an internal cluster IP. If no service type is specified, a ClusterIP service is created by default.\n",
    "- **NodePort**: expose the service using a port exposed on all nodes in the cluster.\n",
    "- **LoadBalancer**: exposes the service through a load balancer from a public cloud provider such as AWS, Azure, or GCP. This will allow the external traffic to reach the services within the cluster securely.\n",
    "\n",
    "To create a service for an existing deployment, use the `kubectl expose deployment` command, with the following syntax:\n",
    "```bash\n",
    "# expose a Deployment through a Service resource \n",
    "# NAME - required; set the name of the deployment to be exposed\n",
    "# --port - required; specify the port that the service should serve on\n",
    "# --target-port - optional; specify the port on the container that the service should direct traffic to\n",
    "# FLAGS - optional; provide extra configuration parameters for the service\n",
    "kubectl expose deploy NAME --port=port [--target-port=port] [FLAGS]\n",
    "\n",
    "# Some of the widely used FLAGS are:\n",
    "--protocol - set the network protocol. Options [TCP|UDP|SCTP]\n",
    "--type - set the type of service. Options [ClusterIP, NodePort, LoadBalancer]\n",
    "\n",
    "# expose the `go-helloworld` deployment on port 8111\n",
    "# note: the application is serving requests on port 6112\n",
    "kubectl expose deploy go-helloworld --port=8111 --target-port=6112\n",
    "```\n"
   ]
  },
  {
   "cell_type": "markdown",
   "metadata": {},
   "source": [
    "### Ingress\n",
    "\n",
    "<img src=\"imgs/le03ex17im02.png\" title=\"Ingress resources enabling access from the external users to services within the cluster\"  />\n",
    "\n",
    "To enable the external user to access services within the cluster an **Ingress** resource is necessary. An Ingress exposes HTTP and HTTPS routes to services within the cluster, using a load balancer provisioned by a cloud provider. Additionally, an Ingress resource has a set of rules that are used to map HTTP(S) endpoints to services running in the cluster. To keep the Ingress rules and load balancer up-to-date an Ingress Controller is introduced.\n",
    "\n",
    "For example, as shown in the image above, the customers will access the go-helloworld.com/hi HTTP route (1), which is managed by an Ingress (2). The Ingress Controller (3) examines the configured routes and directs the traffic to a LoadBalancer (4). And finally, the LoadBalancer directs the requests to the pods using a dedicated port (5)."
   ]
  },
  {
   "cell_type": "markdown",
   "metadata": {},
   "source": [
    "## Kubernetes Resources Part 3"
   ]
  },
  {
   "cell_type": "markdown",
   "metadata": {},
   "source": [
    "### New terms\n",
    "- **Configmap** - a resource to store non-confidential data in key-value pairs.\n",
    "- **Secret** - a resource to store confidential data in key-value pairs. These are base64 encoded.\n",
    "- **Namespace** - a logical separation between multiple applications and associated resources.\n",
    "\n",
    "### Further reading\n",
    "Explore Kubernetes resources to pass configuration to pods:\n",
    "- [Kubernetes Configmap](https://kubernetes.io/docs/concepts/configuration/configmap/)\n",
    "- [Kubernetes Secrets](https://kubernetes.io/docs/concepts/configuration/secret/)\n",
    "- [Kuebrnetes Namespaces](https://kubernetes.io/docs/concepts/overview/working-with-objects/namespaces/)"
   ]
  },
  {
   "cell_type": "markdown",
   "metadata": {},
   "source": [
    "### ConfigMaps\n",
    "\n",
    "**ConfigMaps** are objects that store non-confidential data in key-value pairs. A Configmap can be consumed by a pod as an environmental variable, configuration files through a volume mount, or as command-line arguments to the container.\n",
    "\n",
    "To create a Configmap use the `kubectl create configmap` command, with the following syntax:\n",
    "```bash\n",
    "# create a Configmap\n",
    "# NAME - required; set the name of the configmap resource\n",
    "# FLAGS - optional; define  extra configuration parameters for the configmap\n",
    "kubectl create configmap NAME [FLAGS]\n",
    "\n",
    "# Some of the widely used FLAGS are:\n",
    "--from-file - set path to file with key-value pairs \n",
    "--from-literal - set key-value pair from command-line \n",
    "\n",
    "# create a Configmap to store the color value\n",
    "kubectl create configmap test-cm --from-literal=color=yellow\n",
    "```"
   ]
  },
  {
   "cell_type": "markdown",
   "metadata": {},
   "source": [
    "### Secrets\n",
    "\n",
    "**Secrets** are used to store and distribute sensitive data to the pods, such as passwords or tokens. Pods can consume secrets as environment variables or as files from the volume mounts to the pod. It is noteworthy, that Kubernetes will encode the secret values using base64.\n",
    "\n",
    "To create a Secret use the `kubectl create secret generic` command, with the following syntax:\n",
    "```bash\n",
    "# create a Secret\n",
    "# NAME - required; set the name of the secret resource\n",
    "# FLAGS - optional; define  extra configuration parameters for the secret\n",
    "kubectl create secret generic NAME [FLAGS]\n",
    "\n",
    "# Some of the widely used FLAGS are:\n",
    "--from-file - set path to file with the sensitive key-value pairs \n",
    "--from-literal - set key-value pair from command-line \n",
    "\n",
    "# create a Secret to store the secret color value\n",
    "kubectl create secret generic test-secret --from-literal=color=blue\n",
    "```"
   ]
  },
  {
   "cell_type": "markdown",
   "metadata": {},
   "source": [
    "### Namespaces\n",
    "\n",
    "A Kubernetes cluster is used to host hundreds of applications, and it is required to have separate execution environments across teams and business verticals. This functionality is provisioned by the Namespace resources. A **Namespace** provides a logical separation between multiple applications and associated resources. In a nutshell, it provides the **application context**, defining the environment for a group of Kubernetes resources that relate to a project, such as the amount of CPU, memory, and access. For example, a project-green namespace includes any resources used to deploy the Green Project. These resources construct the application context and can be managed collectively to ensure a successful deployment of the project.\n",
    "\n",
    "Each team or business vertical is allocated a separate Namespace, with the desired amount of CPU, memory, and access. This ensures that the application is managed by the owner team and has enough resources to execute successfully. This also eliminates the \"noisy neighbor\" use case, where a team can consume all the available resources in the cluster if no Namespace boundaries are set.\n",
    "\n",
    "To create a Namespace we can use the `kubectl create namespace` command, with the following syntax:\n",
    "```bash\n",
    "# create a Namespace\n",
    "# NAME - required; set the name of the Namespace\n",
    "kubectl create ns NAME\n",
    "\n",
    "# create a `test-udacity` Namespace\n",
    "kubectl create ns test-udacity\n",
    "\n",
    "# get all the pods in the `test-udacity` Namespace\n",
    "kubectl get po -n test-udacity\n",
    "```"
   ]
  },
  {
   "cell_type": "markdown",
   "metadata": {},
   "source": [
    "## Concept 19: Useful kubectl commands"
   ]
  },
  {
   "cell_type": "markdown",
   "metadata": {},
   "source": [
    "- **RESOURCE** is the Kubernetes resource type\n",
    "- **NAME** sets the name of the resource\n",
    "- **FLAGS** are used to provide extra configuration\n",
    "- **PARAMS** are used to provide the required configuration to the resource"
   ]
  },
  {
   "cell_type": "markdown",
   "metadata": {},
   "source": [
    "```bash\n",
    "# Create Resources\n",
    "kubectl create RESOURCE NAME [FLAGS]\n",
    "\n",
    "# Describe Resources\n",
    "kubectl describe RESOURCE NAME \n",
    "\n",
    "# Get Resources\n",
    "kubectl get RESOURCE NAME [-o yaml]\n",
    "\n",
    "# Edit Resources\n",
    "kubectl edit RESOURCE NAME [-o yaml]\n",
    "\n",
    "# Label Resources\n",
    "kubectl label RESOURCE NAME [PARAMS]\n",
    "\n",
    "# Port-forward to Resources\n",
    "kubectl port-forward RESOURCE/NAME [PARAMS]\n",
    "\n",
    "#Logs from Resources\n",
    "kubectl logs RESOURCE/NAME [FLAGS]\n",
    "\n",
    "# Delete Resources\n",
    "kubectl delete RESOURCE NAME\n",
    "```"
   ]
  },
  {
   "cell_type": "markdown",
   "metadata": {},
   "source": [
    "## Exercice 20: k8s resources\n",
    "\n",
    "- Application management: Deployments, ReplicaSets and Pods\n",
    "- Application reachability: Services and Ingress\n",
    "- Application configuration: Secrets and ConfigMap\n",
    "- Application context: Namespaces\n",
    "\n",
    "\n"
   ]
  },
  {
   "cell_type": "markdown",
   "metadata": {},
   "source": [
    "## Exercise 21: Kubernetes Resources\n",
    "\n",
    "Now you have learned many Kubernetes recourses, in this exercise, you will deploy the following resources using the `kubectl` command.\n",
    "\n",
    "a namespace\n",
    "- name: `demo`\n",
    "- label: `tier: test`\n",
    "\n",
    "a deployment:\n",
    "- image: `nginx:alpine`\n",
    "- name: `nginx-apline`\n",
    "- namespace: `demo`\n",
    "- replicas: 3\n",
    "- labels: `app: nginx, tag: alpine`\n",
    "\n",
    "a service:\n",
    "- expose the above deployment on port 8111\n",
    "- namespace: `demo`\n",
    "\n",
    "a configmap:\n",
    "- name: `nginx-version`\n",
    "- containing key-value pair: `version=alpine`\n",
    "- namespace: `demo`\n",
    "\n",
    "Note: Nginx is one of the public Docker images, that you can access and use for your exercises or testing purposes.\n",
    "\n",
    "```bash\n",
    "# create the namespace \n",
    "# note: label option is not available with `kubectl create`\n",
    "kubectl create ns demo\n",
    "\n",
    "# label the namespace\n",
    "kubectl label ns demo tier=test\n",
    "\n",
    "# create the nginx-alpine deployment \n",
    "kubectl create deploy nginx-alpine --image=nginx:alpine  --replicas=3 --namespace demo\n",
    "\n",
    "# label the deployment\n",
    "kubectl label deploy nginx-alpine app=nginx tag=alpine --namespace demo\n",
    "\n",
    "# expose the nginx-alpine deployment, which will create a service\n",
    "kubectl expose deployment nginx-alpine --port=8111 --namespace demo\n",
    "\n",
    "# create a config map\n",
    "kubectl create configmap nginx-version --from-literal=version=alpine --namespace demo\n",
    "```"
   ]
  },
  {
   "cell_type": "markdown",
   "metadata": {},
   "source": [
    "## Concept 23: Declarative Kubernetes Manifests"
   ]
  },
  {
   "cell_type": "markdown",
   "metadata": {},
   "source": [
    "### New terms\n",
    "- **Imperative configuration** - resource management technique, that operates and interacts directly with the live objects within the cluster.\n",
    "- **Declarative configuration** - resource management technique, that operates and manages resources using YAML manifests stored locally.\n",
    "\n",
    "### Further reading\n",
    "Explore more details about different management techniques and advanced configuration for Deployment resources:\n",
    "- [Managing Kubernetes Objects Using Imperative Commands](https://kubernetes.io/docs/tasks/manage-kubernetes-objects/imperative-command/)\n",
    "- [Declarative Management of Kubernetes Objects Using Configuration Files](https://kubernetes.io/docs/tasks/manage-kubernetes-objects/declarative-config/)\n",
    "- [Configure Liveness, Readiness Probes for a Deployment](https://kubernetes.io/docs/tasks/configure-pod-container/configure-liveness-readiness-startup-probes/)\n",
    "- [Managing Resources for Containers](https://kubernetes.io/docs/concepts/configuration/manage-resources-containers/)\n",
    "---\n"
   ]
  },
  {
   "cell_type": "markdown",
   "metadata": {},
   "source": [
    "A YAML manifest consists of 4 obligatory sections:\n",
    "- **apiversion** - API version used to create a Kubernetes object\n",
    "- **kind** - object type to be created or configured\n",
    "- **metadata** - stores data that makes the object identifiable, such as its name, namespace, and labels\n",
    "- **spec** - defines the desired configuration state of the resource\n",
    "\n",
    "```YAML\n",
    "## Set the API endpoint used to create the Deployment resource.\n",
    "apiVersion: apps/v1\n",
    "## Define the type of the resource.\n",
    "kind: Deployment\n",
    "## Set the parameters that make the object identifiable, such as its name, namespace, and labels.\n",
    "metadata:\n",
    "  annotations:\n",
    "  labels:\n",
    "    app: go-helloworld\n",
    "  name: go-helloworld\n",
    "  namespace: default\n",
    "## Define the desired configuration for the Deployment resource.\n",
    "spec:\n",
    "  ## Set the number of replicas.\n",
    "  ## This will create a ReplicaSet that will manage 3 pods of the Go hello-world application.\n",
    "  replicas: 3\n",
    "  ## Identify the pods managed by this Deployment using the following selectors.\n",
    "  ## In this case, all pods with the label `go-helloworld`.\n",
    "  selector:\n",
    "    matchLabels:\n",
    "      app: go-helloworld\n",
    "  ## Set the RollingOut strategy for the Deployment.\n",
    "  ## For example, roll out only 25% of the new pods at a time.\n",
    "  strategy:\n",
    "    rollingUpdate:\n",
    "      maxSurge: 25%\n",
    "      maxUnavailable: 25%\n",
    "    type: RollingUpdate\n",
    "  ## Set the configuration for the pods.\n",
    "  template:\n",
    "    ## Define the identifiable metadata for the pods.\n",
    "    ## For example, all pods should have the label `go-helloworld`\n",
    "    metadata:\n",
    "      labels:\n",
    "        app: go-helloworld\n",
    "    ## Define the desired state of the pod configuration.\n",
    "    spec:\n",
    "      containers:\n",
    "        ## Set the image to be executed inside the container and image pull policy\n",
    "        ## In this case, run the `go-helloworld` application in version v2.0.0 and\n",
    "        ## only pull the image if it's not available on the current host.\n",
    "      - image: pixelpotato/go-helloworld:v2.0.0\n",
    "        imagePullPolicy: IfNotPresent\n",
    "        name: go-helloworld\n",
    "        ## Expose the port the container is listening on.\n",
    "        ## For example, exposing the application port 6112 via TCP.\n",
    "        ports:\n",
    "        - containerPort: 6112\n",
    "          protocol: TCP\n",
    "        ## Define the rules for the liveness probes.\n",
    "        ## For example, verify the application on the main route `/`,\n",
    "        ## on application port 6112. If the application is not responsive, then the pod will be restarted automatically. \n",
    "        livenessProbe:\n",
    "           httpGet:\n",
    "             path: /\n",
    "             port: 6112\n",
    "        ## Define the rules for the readiness probes.\n",
    "        ## For example, verify the application on the main route `/`,\n",
    "        ## on application port 6112. If the application is responsive, then traffic will be sent to this pod.\n",
    "        readinessProbe:\n",
    "           httpGet:\n",
    "             path: /\n",
    "             port: 6112\n",
    "        ## Set the resource requests and limits for an application.\n",
    "        resources:\n",
    "        ## The resource requests guarantees that the desired amount \n",
    "        ## CPU and memory is allocated for a pod. In this example, \n",
    "        ## the pod will be allocated with 64 Mebibytes and 250 miliCPUs.\n",
    "          requests:\n",
    "            memory: \"64Mi\"\n",
    "            cpu: \"250m\"\n",
    "        ## The resource limits ensure that the application is not consuming \n",
    "        ## more than the specified CPU and memory values. In this example, \n",
    "        ## the pod will not surpass 128 Mebibytes and 500 miliCPUs.\n",
    "          limits:\n",
    "            memory: \"128Mi\"\n",
    "            cpu: \"500m\"\n",
    "```\n"
   ]
  },
  {
   "cell_type": "markdown",
   "metadata": {},
   "source": [
    "[K8S Cheatsheet](https://kubernetes.io/docs/reference/kubectl/cheatsheet/)"
   ]
  },
  {
   "cell_type": "markdown",
   "metadata": {},
   "source": []
  }
 ],
 "metadata": {
  "hide_input": false,
  "kernelspec": {
   "display_name": "Python 3",
   "language": "python",
   "name": "python3"
  },
  "language_info": {
   "codemirror_mode": {
    "name": "ipython",
    "version": 3
   },
   "file_extension": ".py",
   "mimetype": "text/x-python",
   "name": "python",
   "nbconvert_exporter": "python",
   "pygments_lexer": "ipython3",
   "version": "3.8.5"
  },
  "toc": {
   "base_numbering": 1,
   "nav_menu": {},
   "number_sections": false,
   "sideBar": true,
   "skip_h1_title": false,
   "title_cell": "Table of Contents",
   "title_sidebar": "Contents",
   "toc_cell": false,
   "toc_position": {},
   "toc_section_display": true,
   "toc_window_display": false
  },
  "varInspector": {
   "cols": {
    "lenName": 16,
    "lenType": 16,
    "lenVar": 40
   },
   "kernels_config": {
    "python": {
     "delete_cmd_postfix": "",
     "delete_cmd_prefix": "del ",
     "library": "var_list.py",
     "varRefreshCmd": "print(var_dic_list())"
    },
    "r": {
     "delete_cmd_postfix": ") ",
     "delete_cmd_prefix": "rm(",
     "library": "var_list.r",
     "varRefreshCmd": "cat(var_dic_list()) "
    }
   },
   "types_to_exclude": [
    "module",
    "function",
    "builtin_function_or_method",
    "instance",
    "_Feature"
   ],
   "window_display": false
  }
 },
 "nbformat": 4,
 "nbformat_minor": 2
}
