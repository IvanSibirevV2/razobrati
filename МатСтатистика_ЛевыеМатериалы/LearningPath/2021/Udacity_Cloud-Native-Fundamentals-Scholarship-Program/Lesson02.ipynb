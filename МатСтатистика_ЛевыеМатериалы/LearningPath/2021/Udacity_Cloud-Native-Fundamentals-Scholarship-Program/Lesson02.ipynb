{
 "cells": [
  {
   "cell_type": "markdown",
   "metadata": {
    "toc": true
   },
   "source": [
    "<h1>Table of Contents<span class=\"tocSkip\"></span></h1>\n",
    "<div class=\"toc\"><ul class=\"toc-item\"><li><span><a href=\"#Architecture-Consideration-for-Cloud-Native-Applications\" data-toc-modified-id=\"Architecture-Consideration-for-Cloud-Native-Applications-1\">Architecture Consideration for Cloud Native Applications</a></span><ul class=\"toc-item\"><li><span><a href=\"#Concept-02:-Design-Considerations-for-Cloud-Native-Applications\" data-toc-modified-id=\"Concept-02:-Design-Considerations-for-Cloud-Native-Applications-1.1\">Concept 02: Design Considerations for Cloud-Native Applications</a></span></li><li><span><a href=\"#Concept-03:-Monoliths-and-Microservices\" data-toc-modified-id=\"Concept-03:-Monoliths-and-Microservices-1.2\">Concept 03: Monoliths and Microservices</a></span><ul class=\"toc-item\"><li><span><a href=\"#Monoliths\" data-toc-modified-id=\"Monoliths-1.2.1\">Monoliths</a></span></li><li><span><a href=\"#Microservices\" data-toc-modified-id=\"Microservices-1.2.2\">Microservices</a></span></li></ul></li><li><span><a href=\"#Concept-05:-Trade-offs-for-Monoliths-and-Microservices\" data-toc-modified-id=\"Concept-05:-Trade-offs-for-Monoliths-and-Microservices-1.3\">Concept 05: Trade-offs for Monoliths and Microservices</a></span><ul class=\"toc-item\"><li><span><a href=\"#Development-complexity\" data-toc-modified-id=\"Development-complexity-1.3.1\">Development complexity</a></span></li><li><span><a href=\"#Scalability\" data-toc-modified-id=\"Scalability-1.3.2\">Scalability</a></span></li><li><span><a href=\"#Time-to-Deploy\" data-toc-modified-id=\"Time-to-Deploy-1.3.3\">Time to Deploy</a></span></li><li><span><a href=\"#Flexibility\" data-toc-modified-id=\"Flexibility-1.3.4\">Flexibility</a></span></li><li><span><a href=\"#Operational-cost\" data-toc-modified-id=\"Operational-cost-1.3.5\">Operational cost</a></span></li><li><span><a href=\"#Reliability\" data-toc-modified-id=\"Reliability-1.3.6\">Reliability</a></span></li></ul></li><li><span><a href=\"#Concept-09:-Best-Practices-For-Application-Deployment\" data-toc-modified-id=\"Concept-09:-Best-Practices-For-Application-Deployment-1.4\">Concept 09: Best Practices For Application Deployment</a></span><ul class=\"toc-item\"><li><span><a href=\"#Further-reading\" data-toc-modified-id=\"Further-reading-1.4.1\">Further reading</a></span></li><li><span><a href=\"#Health-Checks\" data-toc-modified-id=\"Health-Checks-1.4.2\">Health Checks</a></span></li><li><span><a href=\"#Metrics\" data-toc-modified-id=\"Metrics-1.4.3\">Metrics</a></span></li><li><span><a href=\"#Logs\" data-toc-modified-id=\"Logs-1.4.4\">Logs</a></span></li><li><span><a href=\"#Tracing\" data-toc-modified-id=\"Tracing-1.4.5\">Tracing</a></span></li><li><span><a href=\"#Resource-Consumption\" data-toc-modified-id=\"Resource-Consumption-1.4.6\">Resource Consumption</a></span></li></ul></li><li><span><a href=\"#Quizzes-10\" data-toc-modified-id=\"Quizzes-10-1.5\">Quizzes 10</a></span></li><li><span><a href=\"#Concept-15:-Edge-Case:-Amorphous-Applications\" data-toc-modified-id=\"Concept-15:-Edge-Case:-Amorphous-Applications-1.6\">Concept 15: Edge Case: Amorphous Applications</a></span><ul class=\"toc-item\"><li><span><a href=\"#Further-reading\" data-toc-modified-id=\"Further-reading-1.6.1\">Further reading</a></span></li></ul></li></ul></li></ul></div>"
   ]
  },
  {
   "cell_type": "markdown",
   "metadata": {},
   "source": [
    "# Architecture Consideration for Cloud Native Applications"
   ]
  },
  {
   "cell_type": "markdown",
   "metadata": {},
   "source": [
    "## Concept 02: Design Considerations for Cloud-Native Applications\n",
    "\n",
    "**Functional requirements**:\n",
    "- Stakeholders\n",
    "- Functionalities\n",
    "- End users\n",
    "- Input and output process\n",
    "- Engineering teams\n",
    "\n",
    "**Available resources**:\n",
    "- Engineering resources\n",
    "- Financial resources\n",
    "- Timeframes\n",
    "- Internal knowledge"
   ]
  },
  {
   "cell_type": "markdown",
   "metadata": {},
   "source": [
    "## Concept 03: Monoliths and Microservices\n",
    "\n",
    "**New terms** \n",
    "- **Monolith**: application design where all application tiers are managed as a single unit\n",
    "- **Microservice**: application design where application tiers are managed as independent, smaller units\n",
    "---\n",
    "\n",
    "**Further reading**\n",
    "- [What’s the Difference Between Monolith and Microservices?](https://nordicapis.com/whats-the-difference-between-monolith-and-microservices/)\n",
    "- [Microservices vs Monolithic Architecture](https://www.mulesoft.com/resources/api/microservices-vs-monolithic)\n",
    "---\n",
    "\n",
    "Each architecture encapsulates the 3 main tires of an application:\n",
    "\n",
    "- **UI (User Interface)** - handles HTTP requests from the users and returns a response\n",
    "- **Business logic** - contained the code that provides a service to the users\n",
    "- **Data layer** - implements access and storage of data objects\n",
    "\n",
    "### Monoliths\n",
    "\n",
    "<img src=\"imgs/LE02EX03im01.png\" title=\"A booking application referencing the monolithic architecture\" width=\"150\" height=\"200\" />\n",
    "\n",
    "In a monolithic architecture, application tiers can be described as:\n",
    "\n",
    "- part of the same unit\n",
    "- managed in a single repository\n",
    "- sharing existing resources (e.g. CPU and memory)\n",
    "- developed in one programming language\n",
    "- released using a single binary\n",
    "\n",
    "### Microservices\n",
    "\n",
    "<img src=\"imgs/LE02EX03im02.png\" title=\"A booking 1pplication referencing the monolithic architecture\" width=\"300\" height=\"200\" />\n",
    "\n",
    "In a microservice architecture, application tiers are managed independently, as different units. Each unit has the following characteristics:\n",
    "\n",
    "- managed in a separate repository\n",
    "- own allocated resources (e.g. CPU and memory)\n",
    "- well-defined API (Application Programming Interface) for connection to other units\n",
    "- implemented using the programming language of choice\n",
    "- released using its own binary\n",
    "\n"
   ]
  },
  {
   "cell_type": "markdown",
   "metadata": {},
   "source": [
    "## Concept 05: Trade-offs for Monoliths and Microservices"
   ]
  },
  {
   "cell_type": "markdown",
   "metadata": {},
   "source": [
    "### Development complexity \n",
    "\n",
    "Development complexity represents the effort required to deploy and manage an application.\n",
    "\n",
    "| **Trade-offs** | **Monolith** | **Microservice**  |\n",
    "| :--- | :--- | :--- |\n",
    "| Development Complexity  | - **one** programming language  | - **multiple** programming languages   | \n",
    "|   | - **one** repository  |  - **multiple** repositories | \n",
    "|   | -  enables **sequential development** |  - enables **concurrent development** | "
   ]
  },
  {
   "cell_type": "markdown",
   "metadata": {},
   "source": [
    "### Scalability \n",
    "\n",
    "Scalability captures how an application is able to scales up and down, based on the incoming traffic.\n",
    "\n",
    "| **Trade-offs** | **Monolith** | **Microservice**  |\n",
    "| :--- | :--- | :--- |\n",
    "| Scalability  |  - replication of the **entire stack**  | - replication of a **single unit**   | \n",
    "|   | - Hence it's **heavy** on resource consumption  |  - Providing **on-demand** consumption of resources | "
   ]
  },
  {
   "cell_type": "markdown",
   "metadata": {},
   "source": [
    "### Time to Deploy\n",
    "\n",
    "Time to deploy encapsulates the build of a delivery pipeline that is used to ship features.\n",
    "\n",
    "| **Trade-offs** | **Monolith** | **Microservice**  |\n",
    "| :--- | :--- | :--- |\n",
    "| Time to Deploy  | - **one** delivery pipeline that deploys the **entire** stack | - **multiple** delivery pipelines that deploy **separate** units | \n",
    "|   | - **More risk** with each deployment leading to a **lower** velocity rate  | - **Less risk** with each deployment leading to a **higher** feature development rate | "
   ]
  },
  {
   "cell_type": "markdown",
   "metadata": {},
   "source": [
    "### Flexibility\n",
    "\n",
    "Flexibility implies the ability to adapt to new technologies and introduce new functionalities.\n",
    "\n",
    "| **Trade-offs** | **Monolith** | **Microservice**  |\n",
    "| :--- | :--- | :--- |\n",
    "| Flexibility  |  - low rate  | - high rate | \n",
    "|   | since the entire application stack might need restructuring to incorporate new functionalities | since changing an independent unit is straightforward | "
   ]
  },
  {
   "cell_type": "markdown",
   "metadata": {},
   "source": [
    "### Operational cost\n",
    "\n",
    "Operational cost represents the cost of necessary resources to release a product.\n",
    "\n",
    "| **Trade-offs** | **Monolith** | **Microservice**  |\n",
    "| :--- | :--- | :--- |\n",
    "| Operational cost  |  - low initial cost  | - high initial cost | \n",
    "|   | Since one code base and one pipeline should be managed. However, the cost increases exponentially when the application needs to operate at scale. | Since multiple repositories and pipelines require management. However, at scale, the cost remains proportional to the consumed resources at that point in time. | "
   ]
  },
  {
   "cell_type": "markdown",
   "metadata": {},
   "source": [
    "### Reliability\n",
    "\n",
    "Reliability captures practices for an application to recover from failure and tools to monitor an application.\n",
    "\n",
    "| **Trade-offs** | **Monolith** | **Microservice**  |\n",
    "| :--- | :--- | :--- |\n",
    "| Flexibility  | - In a failure scenario, the entire stack needs to be recovered.  | - In a failure scenario, only the failed unit needs to be recovered.  | \n",
    "|   | - The visibility into each functionality is low, since all the logs and metrics are aggregated together. | - There is high visibility into the logs and metrics for each unit. | "
   ]
  },
  {
   "cell_type": "markdown",
   "metadata": {},
   "source": [
    "## Concept 09: Best Practices For Application Deployment"
   ]
  },
  {
   "cell_type": "markdown",
   "metadata": {},
   "source": [
    "### Further reading\n",
    "- [Health Checks](https://microservices.io/patterns/observability/health-check-api.html) - explore the core reasons to introduce health checks and implementations examples\n",
    "- [Prometehus](https://prometheus.io/docs/instrumenting/writing_exporters/#metrics) Best Practices on Metrics Naming - explore how to name, label, and define the type of metrics\n",
    "- [Application Logging Best Practices](https://logz.io/blog/logging-best-practices/) - read more on how to define what logs should be collected by an application\n",
    "- [Logging Levels](https://www.tutorialspoint.com/log4j/log4j_logging_levels.htm) - explore possible logging levels and when they should be enabled\n",
    "- [Enabling Distributed Tracing for Microservices With Jaeger in Kubernetes](https://containerjournal.com/topics/container-ecosystems/enabling-distributed-tracing-for-microservices-with-jaeger-in-kubernetes/) - learn what tools can be used to implement tracing in a Kubernetes cluster"
   ]
  },
  {
   "cell_type": "markdown",
   "metadata": {},
   "source": [
    "### Health Checks\n",
    "Health checks are implemented to showcase the status of an application. These checks report if an application is running and meets the expected behavior to serve incoming traffic. Usually, health checks are represented by an HTTP endpoint such as `/healthz` or `/status`. These endpoints return an HTTP response showcasing if the application is healthy or in an error state."
   ]
  },
  {
   "cell_type": "markdown",
   "metadata": {},
   "source": [
    "### Metrics\n",
    "Metrics are necessary to quantify the performance of the application. To fully understand how a service handles requests, it is mandatory to collect statistics on how the service operates. For example, the number of active users, handled requests, or the number of logins. Additionally, it is paramount to gather statistics on resources that the application requires to be fully operational. For example, the amount of CPU, memory, and network throughput. Usually, the collection of metrics are returned via an HTTP endpoint such as `/metrics`, which contains the internal metrics such as the number of active users, consumed CPU, network throughput, etc.\n"
   ]
  },
  {
   "cell_type": "markdown",
   "metadata": {},
   "source": [
    "### Logs\n",
    "Log aggregation provides valuable insights into what operations a service is performing at a point in time. It is the nucleus of any troubleshooting and debugging process. For example, it is essential to record if a user logged in successfully into a service, or encountered an error while performing a payment.\n",
    "\n",
    "Usually, the logs are collected from STDOUT (standard out) and STDERR (standard error) through a passive logging mechanism. This means that any output or errors from the application are sent to the shell. Subsequently, these are collected by a logging tool, such as Fluentd or Splunk, and stored in backend storage. However, the application can send the logs directly to the backend storage. In this case, an active logging technique is used, as the log transmission is handled directly by the application, without a logging tool required.\n",
    "\n",
    "There are multiple logging levels that can be attributed to an operation. Some of the most widely used are:\n",
    "\n",
    "- `DEBUG` - record fine-grained events of application processes\n",
    "- `INFO` - provide coarse-grained information about an operation\n",
    "- `WARN` - records a potential issue with the service\n",
    "- `ERROR` - notifies an error has been encountered, however, the application is still running\n",
    "- `FATAL` - represents a critical situation, when the application is not operational\n",
    "\n",
    "As well, it is common practice to associate each log line with a timestamp, that will exactly record when an operation was invoked.\n"
   ]
  },
  {
   "cell_type": "markdown",
   "metadata": {},
   "source": [
    "### Tracing\n",
    "Tracing is capable of creating a full picture of how different services are invoked to fulfill a single request. Usually, tracing is integrated through a library at the application layer, where the developer can record when a particular service is invoked. These records for individual services are defined as spans. A collection of spans define a trace that recreates the entire lifecycle of a request."
   ]
  },
  {
   "cell_type": "markdown",
   "metadata": {},
   "source": [
    "### Resource Consumption\n",
    "Resource consumption encapsulates the resources an application requires to be fully operational. This usually refers to the amount of CPU and memory that is consumed by an application during its execution. Additionally, it is beneficial to benchmark the network throughput, or how many requests can an application handle concurrently. Having awareness of resource boundaries is essential to ensure that the application is up and running 24/7."
   ]
  },
  {
   "cell_type": "markdown",
   "metadata": {},
   "source": [
    "## Quizzes 10\n",
    "\n",
    "<img src=\"imgs/le02ex10im01.png\" title=\"API endpoints\"  />"
   ]
  },
  {
   "cell_type": "markdown",
   "metadata": {},
   "source": [
    "## Concept 15: Edge Case: Amorphous Applications\n",
    "\n",
    "### Further reading\n",
    "[Modern Banking in 1500 Microservices](https://www.youtube.com/watch?v=t7iVCIYQbgk) - watch how Monzo is managing thousands of microservices and evolves their ecosystem\n",
    "\n",
    "---\n",
    "\n",
    "Throughout the maintenance stage, the application structure and functionalities can change, and this is expected! The architecture of an application is not static, it is amorphous and in constant movement. This represents the organic growth of a product that is responsive to customer feedback and new emerging technologies.\n",
    "\n",
    "Both monolith and microservice-based applications transition in the maintenance phase after the production release. When considering adding new functionalities or incorporating new tools, it is always beneficial to focus on **extensibility rather than flexibility**. Generally speaking, it is more efficient to manage multiple services with a well-defined and simple functionality (as in the case of microservices), rather than add more abstraction layers to support new services (as we’ve seen with the monoliths). However, to have a well-structured maintenance phase, it is essential to understand the reasons an architecture is chosen for an application and involved trade-offs.\n",
    "\n",
    "<img src=\"imgs/le02ex15im01.png\" title=\"Application operations to occur in the maintenance phase\"  />\n",
    "\n",
    "- A split operation - is applied if a service covers too many functionalities and it's complex to manage. Having smaller, manageable units is preferred in this context.\n",
    "- A merge operation- is applied if units are too granular or perform closely interlinked operations, and it provides a development advantage to merge these together. For example, merging 2 separate services for log output and log format in a single service.\n",
    "- A replace operation - is adopted when a more efficient implementation is identified for a service. For example, rewriting a Java service in Go, to optimize the overall execution time.\n",
    "- A stale operation - is performed for services that are no longer providing any business value, and should be archived or deprecated. For example, services that were used to perform a one-off migration process.\n"
   ]
  },
  {
   "cell_type": "code",
   "execution_count": null,
   "metadata": {},
   "outputs": [],
   "source": []
  }
 ],
 "metadata": {
  "hide_input": false,
  "kernelspec": {
   "display_name": "Python 3",
   "language": "python",
   "name": "python3"
  },
  "language_info": {
   "codemirror_mode": {
    "name": "ipython",
    "version": 3
   },
   "file_extension": ".py",
   "mimetype": "text/x-python",
   "name": "python",
   "nbconvert_exporter": "python",
   "pygments_lexer": "ipython3",
   "version": "3.8.5"
  },
  "toc": {
   "base_numbering": 1,
   "nav_menu": {},
   "number_sections": false,
   "sideBar": true,
   "skip_h1_title": false,
   "title_cell": "Table of Contents",
   "title_sidebar": "Contents",
   "toc_cell": true,
   "toc_position": {},
   "toc_section_display": true,
   "toc_window_display": false
  },
  "varInspector": {
   "cols": {
    "lenName": 16,
    "lenType": 16,
    "lenVar": 40
   },
   "kernels_config": {
    "python": {
     "delete_cmd_postfix": "",
     "delete_cmd_prefix": "del ",
     "library": "var_list.py",
     "varRefreshCmd": "print(var_dic_list())"
    },
    "r": {
     "delete_cmd_postfix": ") ",
     "delete_cmd_prefix": "rm(",
     "library": "var_list.r",
     "varRefreshCmd": "cat(var_dic_list()) "
    }
   },
   "types_to_exclude": [
    "module",
    "function",
    "builtin_function_or_method",
    "instance",
    "_Feature"
   ],
   "window_display": false
  }
 },
 "nbformat": 4,
 "nbformat_minor": 2
}
